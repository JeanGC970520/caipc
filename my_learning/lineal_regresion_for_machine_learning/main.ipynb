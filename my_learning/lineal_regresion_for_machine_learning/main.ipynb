{
 "cells": [
  {
   "cell_type": "markdown",
   "metadata": {},
   "source": [
    "# Regresion Lineal para el Aprendizaje Automatico.\n",
    "\n",
    "Metodo estadistico que se utiliza para el analisis predictivo. Y es uno de los algoritmos parametricos de ML, en los cuales el <br>\n",
    "resultado del proceso de entrenamiento es una funcion matematica que se aproxima lo mejor posible a los patrones del conjunto <br>\n",
    "de entrenamiento. Es decir, funcionan haciendo suposiciones sobre la realcion entre las caracteristicas y la columna objetivo.<br>\n",
    "\n",
    "En la _**regresion lineal**_, se expresa con una ecuacion de regresion lineal: $$ \\widehat{y} = \\theta_{0} + \\theta_{1}x_{1} + \\theta_{2}x_{2} + \\theta_{3}x_{3} + ... + \\theta_{n}x_{n} $$\n",
    "\n",
    "Donde: \n",
    "- $ \\widehat{y} $ es el valor predicho.\n",
    "- $ n $ es el numero de caracteristicas.\n",
    "- $ x_{i} $ es el i-ésimo valor de característica.\n",
    "- $ \\theta_{j} $ es el j-esimo parametro del modelo (incluyendo el termino _bias_ $ \\theta_{0} $ y los pesos de las caracteristicas $ \\theta_{1}, \\theta_{2}, ..., \\theta_{n} $).\n",
    "\n",
    "Aunque tambien se puede expresar en su forma _**vectorizada**_, de una manera mas concisa: $$ \\widehat{y} = h_{\\mathbf{\\theta}}(\\mathbf{x}) = \\mathbf{\\theta}\\cdot\\mathbf{x} $$\n",
    "\n",
    "Donde:\n",
    "- $ \\mathbf{\\theta} $ es el _vector de parametros_ del modelo, contiene el termino _bais_  $ \\theta_{0} $ y los pesos de las caracteristicas $ \\theta_{1} $ a $ \\theta_{n} $\n",
    "- $ \\mathbf{x} $ es el _vector de caracteristicas_ de la instancia, contiene $ x_{0} $ a $ x_{n} $, con $ x_{0} $ siempre igual a 1.\n",
    "- $ \\mathbf{\\theta}\\cdot\\mathbf{x} $ es el **producto punto** de los vectores $ \\mathbf{\\theta} $ y $ \\mathbf{x} $, el cual es por su puesto igual a $ \\theta_{0} + \\theta_{1}x_{1} + \\theta_{2}x_{2} + \\theta_{3}x_{3} + ... + \\theta_{n}x_{n} $\n",
    "- $ h_{\\mathbf{\\theta}} $ es la funcion hipotetica, usando los parametros del modelo $ \\mathbf{\\theta} $."
   ]
  },
  {
   "cell_type": "markdown",
   "metadata": {},
   "source": [
    "### Modelo de Regresion Lineal"
   ]
  },
  {
   "cell_type": "code",
   "execution_count": null,
   "metadata": {},
   "outputs": [],
   "source": []
  }
 ],
 "metadata": {
  "language_info": {
   "name": "python"
  }
 },
 "nbformat": 4,
 "nbformat_minor": 2
}
