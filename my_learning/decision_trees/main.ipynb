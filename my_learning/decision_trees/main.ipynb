{
 "cells": [
  {
   "cell_type": "markdown",
   "metadata": {},
   "source": [
    "## Arboles de Decisiones\n",
    "\n",
    "Al igual que los _SVMs_(Supported Vector Machine), los _**Arboles de Decision**_ (Decision Trees) son algoritmos de Machine Learning versatiles que pueden desempeñar tareas de _clasificacion_ y _regresion_, e incluso tareas _multioutput_. <br>\n",
    "\n",
    "Los _Arboles de Decisiones_ son tambien un parte fundamental del algoritmo _Random Forest_, el cual se ecunetra entre los algoritmos mas poderosos de Machine Learning hoy en dia.\n",
    "\n",
    "#### Entrenamiento y visualizacion de un _Arbol de Desicion_."
   ]
  },
  {
   "cell_type": "code",
   "execution_count": 1,
   "metadata": {},
   "outputs": [],
   "source": [
    "# Importando librerias necesarias\n",
    "import pandas as pd\n",
    "import numpy as np\n",
    "\n",
    "from sklearn.datasets import load_iris\n",
    "\n",
    "from sklearn.tree import DecisionTreeClassifier"
   ]
  },
  {
   "cell_type": "code",
   "execution_count": null,
   "metadata": {},
   "outputs": [],
   "source": []
  }
 ],
 "metadata": {
  "kernelspec": {
   "display_name": "caipc",
   "language": "python",
   "name": "python3"
  },
  "language_info": {
   "codemirror_mode": {
    "name": "ipython",
    "version": 3
   },
   "file_extension": ".py",
   "mimetype": "text/x-python",
   "name": "python",
   "nbconvert_exporter": "python",
   "pygments_lexer": "ipython3",
   "version": "3.11.5"
  }
 },
 "nbformat": 4,
 "nbformat_minor": 2
}
