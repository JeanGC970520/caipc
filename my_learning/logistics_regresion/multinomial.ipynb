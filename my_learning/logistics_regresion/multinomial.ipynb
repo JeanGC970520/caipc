{
 "cells": [
  {
   "cell_type": "markdown",
   "metadata": {},
   "source": [
    "## Regresion Logistica Multinomial\n",
    "\n",
    "Hasta ahora vimos el funcionamiento interno y la utilidad que puede llegar a tener la Regresion Logistica, aunque tiene una limitante importante, la cual es que tiene un comportamiento _binario_. Lo cual no nos permite tener mas de dos clasificaciones. \n",
    "\n",
    "Para resolver esto, podemos utilizar la _**Regresion Logistica Multinomial**_. Para ello utilizaremos dos metodos distintos: \n",
    "1. Estrategia One-vs-Rest.\n",
    "2. Softmax Regression."
   ]
  },
  {
   "cell_type": "markdown",
   "metadata": {},
   "source": [
    "### 1. One-vs-Rest.\n",
    "\n",
    "One versus Rest (OvR), tambien llamada _One versus All_ (OvA), es una tecnica que _**extiende**_ la clasificacion binaria a problemas multi clase. En general, asi es como funciona: \n",
    "\n",
    "- Se entrena un clasificador por clase a calificar, donde una clase es considerada como _la clase positiva_ y el resto como la _clase negativa_.\n",
    "\n",
    "Por ejemplo: Digamos que tenemos que resolver un problema de reconocimiento de imagenes. El dataset contiene 4 clases, los digitos 0, 1, 2 y 3. El objetivo es clasificarlos. Usando el enfoque OvR, se tendria que usar 4 clasificadores binarios:\n",
    "\n",
    "1. Clasificador binario 1: digito 0 vs digitos 1, 2 y 3.\n",
    "2. Clasificador binario 2: digito 1 vs digitos 0, 2 y 3.\n",
    "3. Clasificador binario 3: digito 2 vs digitos 0, 1 y 3.\n",
    "4. Clasificador binario 4: digito 3 vs digitos 0, 1 y 2.\n",
    "\n",
    "Y la hora de querer clasificar una nueva muestra, se utilizarian cada uno de estos clasificadores. El que tenga la probabilidad mas alta sera la clase predicha."
   ]
  },
  {
   "cell_type": "code",
   "execution_count": 1,
   "metadata": {},
   "outputs": [],
   "source": [
    "import numpy as np\n",
    "import pandas as pd\n",
    "\n",
    "import seaborn as sns\n",
    "import matplotlib.pyplot as plt\n",
    "\n",
    "from sklearn import metrics\n",
    "from sklearn.datasets import load_iris\n",
    "from sklearn.linear_model import LogisticRegression"
   ]
  },
  {
   "cell_type": "markdown",
   "metadata": {},
   "source": [
    "##### EDA (Analisis Exploratorio de Datos)"
   ]
  },
  {
   "cell_type": "code",
   "execution_count": 2,
   "metadata": {},
   "outputs": [
    {
     "name": "stdout",
     "output_type": "stream",
     "text": [
      "dict_keys(['data', 'target', 'frame', 'target_names', 'DESCR', 'feature_names', 'filename', 'data_module'])\n",
      "['sepal length (cm)', 'sepal width (cm)', 'petal length (cm)', 'petal width (cm)', 'target']\n"
     ]
    },
    {
     "data": {
      "text/html": [
       "<div>\n",
       "<style scoped>\n",
       "    .dataframe tbody tr th:only-of-type {\n",
       "        vertical-align: middle;\n",
       "    }\n",
       "\n",
       "    .dataframe tbody tr th {\n",
       "        vertical-align: top;\n",
       "    }\n",
       "\n",
       "    .dataframe thead th {\n",
       "        text-align: right;\n",
       "    }\n",
       "</style>\n",
       "<table border=\"1\" class=\"dataframe\">\n",
       "  <thead>\n",
       "    <tr style=\"text-align: right;\">\n",
       "      <th></th>\n",
       "      <th>sepal length (cm)</th>\n",
       "      <th>sepal width (cm)</th>\n",
       "      <th>petal length (cm)</th>\n",
       "      <th>petal width (cm)</th>\n",
       "      <th>target</th>\n",
       "    </tr>\n",
       "  </thead>\n",
       "  <tbody>\n",
       "    <tr>\n",
       "      <th>count</th>\n",
       "      <td>150.000000</td>\n",
       "      <td>150.000000</td>\n",
       "      <td>150.000000</td>\n",
       "      <td>150.000000</td>\n",
       "      <td>150.000000</td>\n",
       "    </tr>\n",
       "    <tr>\n",
       "      <th>mean</th>\n",
       "      <td>5.843333</td>\n",
       "      <td>3.057333</td>\n",
       "      <td>3.758000</td>\n",
       "      <td>1.199333</td>\n",
       "      <td>1.000000</td>\n",
       "    </tr>\n",
       "    <tr>\n",
       "      <th>std</th>\n",
       "      <td>0.828066</td>\n",
       "      <td>0.435866</td>\n",
       "      <td>1.765298</td>\n",
       "      <td>0.762238</td>\n",
       "      <td>0.819232</td>\n",
       "    </tr>\n",
       "    <tr>\n",
       "      <th>min</th>\n",
       "      <td>4.300000</td>\n",
       "      <td>2.000000</td>\n",
       "      <td>1.000000</td>\n",
       "      <td>0.100000</td>\n",
       "      <td>0.000000</td>\n",
       "    </tr>\n",
       "    <tr>\n",
       "      <th>25%</th>\n",
       "      <td>5.100000</td>\n",
       "      <td>2.800000</td>\n",
       "      <td>1.600000</td>\n",
       "      <td>0.300000</td>\n",
       "      <td>0.000000</td>\n",
       "    </tr>\n",
       "    <tr>\n",
       "      <th>50%</th>\n",
       "      <td>5.800000</td>\n",
       "      <td>3.000000</td>\n",
       "      <td>4.350000</td>\n",
       "      <td>1.300000</td>\n",
       "      <td>1.000000</td>\n",
       "    </tr>\n",
       "    <tr>\n",
       "      <th>75%</th>\n",
       "      <td>6.400000</td>\n",
       "      <td>3.300000</td>\n",
       "      <td>5.100000</td>\n",
       "      <td>1.800000</td>\n",
       "      <td>2.000000</td>\n",
       "    </tr>\n",
       "    <tr>\n",
       "      <th>max</th>\n",
       "      <td>7.900000</td>\n",
       "      <td>4.400000</td>\n",
       "      <td>6.900000</td>\n",
       "      <td>2.500000</td>\n",
       "      <td>2.000000</td>\n",
       "    </tr>\n",
       "  </tbody>\n",
       "</table>\n",
       "</div>"
      ],
      "text/plain": [
       "       sepal length (cm)  sepal width (cm)  petal length (cm)  \\\n",
       "count         150.000000        150.000000         150.000000   \n",
       "mean            5.843333          3.057333           3.758000   \n",
       "std             0.828066          0.435866           1.765298   \n",
       "min             4.300000          2.000000           1.000000   \n",
       "25%             5.100000          2.800000           1.600000   \n",
       "50%             5.800000          3.000000           4.350000   \n",
       "75%             6.400000          3.300000           5.100000   \n",
       "max             7.900000          4.400000           6.900000   \n",
       "\n",
       "       petal width (cm)      target  \n",
       "count        150.000000  150.000000  \n",
       "mean           1.199333    1.000000  \n",
       "std            0.762238    0.819232  \n",
       "min            0.100000    0.000000  \n",
       "25%            0.300000    0.000000  \n",
       "50%            1.300000    1.000000  \n",
       "75%            1.800000    2.000000  \n",
       "max            2.500000    2.000000  "
      ]
     },
     "execution_count": 2,
     "metadata": {},
     "output_type": "execute_result"
    }
   ],
   "source": [
    "iris = load_iris()\n",
    "print(iris.keys())\n",
    "\n",
    "# Eligiendo columnas de interes.\n",
    "columns = iris.feature_names + ['target']\n",
    "print(columns)\n",
    "iris_df = pd.DataFrame(data=np.c_[iris.data, iris.target], columns=columns)\n",
    "iris_df.describe()\n",
    "# iris_df.head(20)\n",
    "# iris_df.tail(20)\n",
    "# iris_df.isnull().sum()"
   ]
  },
  {
   "cell_type": "code",
   "execution_count": 3,
   "metadata": {},
   "outputs": [],
   "source": [
    "# Seleccionando datos de entrenamiento y prueba\n",
    "# NOTA: Para este caso al ser tan pocos datos, usaremos todos para el entrenamiento.\n",
    "\n",
    "X_train = iris_df[['petal length (cm)', 'petal width (cm)']]\n",
    "Y_train = iris_df['target']"
   ]
  },
  {
   "cell_type": "code",
   "execution_count": 4,
   "metadata": {},
   "outputs": [
    {
     "data": {
      "text/html": [
       "<style>#sk-container-id-1 {color: black;}#sk-container-id-1 pre{padding: 0;}#sk-container-id-1 div.sk-toggleable {background-color: white;}#sk-container-id-1 label.sk-toggleable__label {cursor: pointer;display: block;width: 100%;margin-bottom: 0;padding: 0.3em;box-sizing: border-box;text-align: center;}#sk-container-id-1 label.sk-toggleable__label-arrow:before {content: \"▸\";float: left;margin-right: 0.25em;color: #696969;}#sk-container-id-1 label.sk-toggleable__label-arrow:hover:before {color: black;}#sk-container-id-1 div.sk-estimator:hover label.sk-toggleable__label-arrow:before {color: black;}#sk-container-id-1 div.sk-toggleable__content {max-height: 0;max-width: 0;overflow: hidden;text-align: left;background-color: #f0f8ff;}#sk-container-id-1 div.sk-toggleable__content pre {margin: 0.2em;color: black;border-radius: 0.25em;background-color: #f0f8ff;}#sk-container-id-1 input.sk-toggleable__control:checked~div.sk-toggleable__content {max-height: 200px;max-width: 100%;overflow: auto;}#sk-container-id-1 input.sk-toggleable__control:checked~label.sk-toggleable__label-arrow:before {content: \"▾\";}#sk-container-id-1 div.sk-estimator input.sk-toggleable__control:checked~label.sk-toggleable__label {background-color: #d4ebff;}#sk-container-id-1 div.sk-label input.sk-toggleable__control:checked~label.sk-toggleable__label {background-color: #d4ebff;}#sk-container-id-1 input.sk-hidden--visually {border: 0;clip: rect(1px 1px 1px 1px);clip: rect(1px, 1px, 1px, 1px);height: 1px;margin: -1px;overflow: hidden;padding: 0;position: absolute;width: 1px;}#sk-container-id-1 div.sk-estimator {font-family: monospace;background-color: #f0f8ff;border: 1px dotted black;border-radius: 0.25em;box-sizing: border-box;margin-bottom: 0.5em;}#sk-container-id-1 div.sk-estimator:hover {background-color: #d4ebff;}#sk-container-id-1 div.sk-parallel-item::after {content: \"\";width: 100%;border-bottom: 1px solid gray;flex-grow: 1;}#sk-container-id-1 div.sk-label:hover label.sk-toggleable__label {background-color: #d4ebff;}#sk-container-id-1 div.sk-serial::before {content: \"\";position: absolute;border-left: 1px solid gray;box-sizing: border-box;top: 0;bottom: 0;left: 50%;z-index: 0;}#sk-container-id-1 div.sk-serial {display: flex;flex-direction: column;align-items: center;background-color: white;padding-right: 0.2em;padding-left: 0.2em;position: relative;}#sk-container-id-1 div.sk-item {position: relative;z-index: 1;}#sk-container-id-1 div.sk-parallel {display: flex;align-items: stretch;justify-content: center;background-color: white;position: relative;}#sk-container-id-1 div.sk-item::before, #sk-container-id-1 div.sk-parallel-item::before {content: \"\";position: absolute;border-left: 1px solid gray;box-sizing: border-box;top: 0;bottom: 0;left: 50%;z-index: -1;}#sk-container-id-1 div.sk-parallel-item {display: flex;flex-direction: column;z-index: 1;position: relative;background-color: white;}#sk-container-id-1 div.sk-parallel-item:first-child::after {align-self: flex-end;width: 50%;}#sk-container-id-1 div.sk-parallel-item:last-child::after {align-self: flex-start;width: 50%;}#sk-container-id-1 div.sk-parallel-item:only-child::after {width: 0;}#sk-container-id-1 div.sk-dashed-wrapped {border: 1px dashed gray;margin: 0 0.4em 0.5em 0.4em;box-sizing: border-box;padding-bottom: 0.4em;background-color: white;}#sk-container-id-1 div.sk-label label {font-family: monospace;font-weight: bold;display: inline-block;line-height: 1.2em;}#sk-container-id-1 div.sk-label-container {text-align: center;}#sk-container-id-1 div.sk-container {/* jupyter's `normalize.less` sets `[hidden] { display: none; }` but bootstrap.min.css set `[hidden] { display: none !important; }` so we also need the `!important` here to be able to override the default hidden behavior on the sphinx rendered scikit-learn.org. See: https://github.com/scikit-learn/scikit-learn/issues/21755 */display: inline-block !important;position: relative;}#sk-container-id-1 div.sk-text-repr-fallback {display: none;}</style><div id=\"sk-container-id-1\" class=\"sk-top-container\"><div class=\"sk-text-repr-fallback\"><pre>LogisticRegression(max_iter=1000, multi_class=&#x27;ovr&#x27;, random_state=42,\n",
       "                   solver=&#x27;sag&#x27;)</pre><b>In a Jupyter environment, please rerun this cell to show the HTML representation or trust the notebook. <br />On GitHub, the HTML representation is unable to render, please try loading this page with nbviewer.org.</b></div><div class=\"sk-container\" hidden><div class=\"sk-item\"><div class=\"sk-estimator sk-toggleable\"><input class=\"sk-toggleable__control sk-hidden--visually\" id=\"sk-estimator-id-1\" type=\"checkbox\" checked><label for=\"sk-estimator-id-1\" class=\"sk-toggleable__label sk-toggleable__label-arrow\">LogisticRegression</label><div class=\"sk-toggleable__content\"><pre>LogisticRegression(max_iter=1000, multi_class=&#x27;ovr&#x27;, random_state=42,\n",
       "                   solver=&#x27;sag&#x27;)</pre></div></div></div></div></div>"
      ],
      "text/plain": [
       "LogisticRegression(max_iter=1000, multi_class='ovr', random_state=42,\n",
       "                   solver='sag')"
      ]
     },
     "execution_count": 4,
     "metadata": {},
     "output_type": "execute_result"
    }
   ],
   "source": [
    "# Instanciando Modelo\n",
    "lr_ovr =  LogisticRegression(\n",
    "    solver='sag',\n",
    "    max_iter=1000,\n",
    "    random_state=42,\n",
    "    multi_class='ovr'\n",
    ")\n",
    "\n",
    "# Ajustando modelo\n",
    "lr_ovr.fit(X_train, Y_train)"
   ]
  },
  {
   "cell_type": "code",
   "execution_count": 6,
   "metadata": {},
   "outputs": [
    {
     "name": "stdout",
     "output_type": "stream",
     "text": [
      "Accuracy = 0.9666666666666667\n"
     ]
    }
   ],
   "source": [
    "print(f\"Accuracy = {lr_ovr.score(X_train, Y_train)}\")"
   ]
  },
  {
   "cell_type": "code",
   "execution_count": 8,
   "metadata": {},
   "outputs": [
    {
     "data": {
      "text/plain": [
       "array([  7.80951078,  -2.21631896, -17.35898137])"
      ]
     },
     "execution_count": 8,
     "metadata": {},
     "output_type": "execute_result"
    }
   ],
   "source": [
    "lr_ovr.intercept_"
   ]
  },
  {
   "cell_type": "code",
   "execution_count": 7,
   "metadata": {},
   "outputs": [
    {
     "data": {
      "text/plain": [
       "array([[-2.58531477, -1.07946479],\n",
       "       [ 0.88567245, -1.5405395 ],\n",
       "       [ 2.74026712,  2.38214674]])"
      ]
     },
     "execution_count": 7,
     "metadata": {},
     "output_type": "execute_result"
    }
   ],
   "source": [
    "lr_ovr.coef_"
   ]
  },
  {
   "cell_type": "markdown",
   "metadata": {},
   "source": [
    "#### Predicciones"
   ]
  },
  {
   "cell_type": "code",
   "execution_count": 9,
   "metadata": {},
   "outputs": [
    {
     "data": {
      "text/plain": [
       "array([[8.19091823e-01, 1.80906376e-01, 1.80108919e-06],\n",
       "       [8.19091823e-01, 1.80906376e-01, 1.80108919e-06]])"
      ]
     },
     "execution_count": 9,
     "metadata": {},
     "output_type": "execute_result"
    }
   ],
   "source": [
    "lr_ovr.predict_proba(X_train[0:2])"
   ]
  },
  {
   "cell_type": "code",
   "execution_count": 10,
   "metadata": {},
   "outputs": [
    {
     "data": {
      "text/plain": [
       "array([0., 0.])"
      ]
     },
     "execution_count": 10,
     "metadata": {},
     "output_type": "execute_result"
    }
   ],
   "source": [
    "lr_ovr.predict(X_train[0:2])"
   ]
  },
  {
   "cell_type": "code",
   "execution_count": 13,
   "metadata": {},
   "outputs": [
    {
     "name": "stdout",
     "output_type": "stream",
     "text": [
      "[0. 0. 0. 0. 0. 0. 0. 0. 0. 0. 0. 0. 0. 0. 0. 0. 0. 0. 0. 0. 0. 0. 0. 0.\n",
      " 0. 0. 0. 0. 0. 0. 0. 0. 0. 0. 0. 0. 0. 0. 0. 0. 0. 0. 0. 0. 0. 0. 0. 0.\n",
      " 0. 0. 1. 1. 1. 1. 1. 1. 1. 1. 1. 1. 1. 1. 1. 1. 1. 1. 1. 1. 1. 1. 2. 1.\n",
      " 1. 1. 1. 1. 1. 2. 1. 1. 1. 1. 1. 2. 1. 1. 1. 1. 1. 1. 1. 1. 1. 1. 1. 1.\n",
      " 1. 1. 0. 1. 2. 2. 2. 2. 2. 2. 1. 2. 2. 2. 2. 2. 2. 2. 2. 2. 2. 2. 2. 2.\n",
      " 2. 2. 2. 2. 2. 2. 2. 2. 2. 2. 2. 2. 2. 2. 2. 2. 2. 2. 2. 2. 2. 2. 2. 2.\n",
      " 2. 2. 2. 2. 2. 2.]\n"
     ]
    }
   ],
   "source": [
    "predictions = lr_ovr.predict(X_train)\n",
    "print(predictions)\n",
    "\n",
    "accuracy = lr_ovr.score(X_train, Y_train)"
   ]
  },
  {
   "cell_type": "code",
   "execution_count": 27,
   "metadata": {},
   "outputs": [
    {
     "data": {
      "image/png": "[encoded data removed]",
      "text/plain": [
       "<Figure size 640x480 with 2 Axes>"
      ]
     },
     "metadata": {},
     "output_type": "display_data"
    }
   ],
   "source": [
    "# Visualizacion de los resultados\n",
    "cm = metrics.confusion_matrix(Y_train, predictions)\n",
    "\n",
    "cm_display = metrics.ConfusionMatrixDisplay(confusion_matrix=cm, display_labels=iris.target_names)\n",
    "cm_display.plot()\n",
    "\n",
    "# plt.figure(figsize=(9,9))\n",
    "# sns.heatmap(cm, \n",
    "#             annot=True,\n",
    "#             fmt=\".0f\",\n",
    "#             linewidths=.5,\n",
    "#             square = True,\n",
    "#             cmap = 'Blues')\n",
    "# plt.ylabel('Actual label', fontsize = 17)\n",
    "# plt.xlabel('Predicted label', fontsize = 17)\n",
    "# plt.title(f'Accuracy Score: {accuracy:.3f}', size = 17)\n",
    "# plt.tick_params(labelsize= 15)\n",
    "plt.show()"
   ]
  },
  {
   "cell_type": "markdown",
   "metadata": {},
   "source": [
    "Como podemos observar, nuestro modelo de _Regresion Logistica Multinomial_ erro 5 clasificaciones:\n",
    "- Clasifico 1 como _setosa_ pero en realidad correspondia a _versicolor_.\n",
    "- Clasifico 1 como _versicolor_ pero en realidad correspondia a _virginica_.\n",
    "- Y por ultimo clasifico 3 como _virginica_ pero correspondian a _versicolor_. "
   ]
  },
  {
   "cell_type": "markdown",
   "metadata": {},
   "source": [
    "### Softmax Regression\n",
    "\n",
    "Este metodo no entrena y combina multiples clasificadores binarios. <br>\n",
    "\n",
    "##### Score\n",
    "\n",
    "En lugar de eso, la Softmax Regression calcula un _score_ $\\; s_{k}(\\mathbf{x}) \\;$ por cada clase $\\; k \\;$, luego estima la probabilidad de cada clase aplicando la _**softmax function**_ (tambien llamada _normalized exponential_) de los _scores_. $$ s_{k}(\\mathbf{x}) = \\mathbf{x}^{T} \\theta^{(k)} $$\n",
    "\n",
    "Como se puede observar, cada class tiene su propio vector de parametros dedicado $\\; \\mathbf{\\theta}^{(k)} \\;$. Todos ellos son por supuesto almacenados como filas en un _parametro matriz_ $\\; \\mathbf{\\Theta} \\;$. <br>\n",
    "\n",
    "##### Probability\n",
    "\n",
    "Despues de estimar el _score_ de cada clase de la instancia $\\; \\mathbf{x} \\;$, se puede estimar la probabilidad $\\; \\widehat{p}_{k} \\;$ de que la instancia pertenezca a la clase $\\; k \\;$ utilizando la _**funcion softmax**_: la cual calcula el exponencial de cada _score_, luego los normaliza (dividiendolos por la suma de todos los exponenciales). Los _scores_ tambien son llamdas _logits_ o _log-odds_ (aunque en realidad son probabilidades logisticas no normalizados). $$ \\widehat{p}_{k} = \\sigma(\\mathbf{s}(\\mathbf{x}))_{k} = \\frac{e^{s_{k}(\\mathbf{x})}}{\\sum \\limits_{j=1}^{K} e^{s_{j}(\\mathbf{x})}} $$ \n",
    "\n",
    "Donde: \n",
    "- $\\; K \\;$ es el numero de clases.\n",
    "- $\\; \\mathbf{s}(\\mathbf{x}) \\;$ es el vector que contiene los _scores_ de cada clase por instancia $\\; \\mathbf{x} \\;$.\n",
    "- $\\; \\sigma(\\mathbf{s}(\\mathbf{x}))_{k} \\;$ es la probabilidad estimada de que la instancia $\\; \\mathbf{x} \\;$ pertenezca a la clase $\\; k \\;$ dado los _scores_ de cada clase por la instancia.\n",
    "\n",
    "Al igual que la _Regresion Logistica_, la _**Regresion Softmax**_ predice la clase con la probabilidad mas alta (que no es mas que la clase con el _score_ mas alto): \n",
    "$$ \n",
    "\n",
    "Softmax\\; Regression\\; classifier\\; prediction\\\\\n",
    "\n",
    "\\hat{y} = \\underset{k}{\\operatorname{arg max}}\\;\\sigma(\\mathbf{s}(\\mathbf{x}))_{k} = \\underset{k}{\\operatorname{arg max}}\\;s_{k}(\\mathbf{x}) = \\underset{k}{\\operatorname{arg max}} \\left(\\left(\\mathbf{\\theta}^{(k)}\\right)^{T}\\mathbf{x}\\right) \n",
    "\n",
    "$$ \n",
    "\n",
    "Donde:\n",
    "- $\\; \\operatorname{arg max} \\;$ retorna el valor de la variable que maximiza una funcion. En esta ecuacion, retorna el valor de $\\; k \\;$ que maximisa la probabilidad estimada $\\; \\sigma(\\mathbf{s}(\\mathbf{x}))_{k} \\;$\n",
    "\n",
    "**IMPORTANTE**: La _regresion Softmax_ es un clasificador que predice una sola clase a la vez. No es miltioutput, solo multiclase.\n",
    "\n",
    "#### Training\n",
    "\n",
    "Ahora que sabemos como el modelo estima las probabilidades y hace predicciones, toca _entrenarlo_. Ya que el objetivo es tener un modelo que estime un alta probabilidad para una clase objetivo (y como consecuencia una baja probabilidad para las otas clases). Minimizar la function de costo, llamada _**cross entropy**_, deberia conducir a este objetivo porque penaliza el modelo cuando estima una baja probabilidad para la clase objetivo. _Cross entropy_ es usada frecuentemente para medir qué tan bien un conjunto de probabilidades de clase estimadas coincide con la clase objetivo. \n",
    "\n",
    "$$\n",
    "Cross\\; entropy\\; cost\\; function\\\\\n",
    "J(\\mathbf{\\Theta}) = -\\frac{1}{m}\\sum \\limits_{i=1}^{m}\\sum \\limits_{k=1}^{K} y_{k}^{(i)}log\\left(\\hat{p}_{k}^{(i)}\\right)\n",
    "\n",
    "$$\n",
    "\n",
    "Donde:\n",
    "- $\\; y_{k}^{(i)} \\;$ es la probabilidad objetivo de que la $\\; i^{(th)} \\;$ (i-esima) instancia pertenezca a la clase $\\; k \\;$. En general, es ya sea igual a 1 o 0, dependiendo de si la instancia pertenece a la clase o no. <br>\n",
    "\n",
    "Como se puede notar, cuando solo hay dos clases ($\\; K = 2 \\;$), esta _funcion de costo_ es equivalente a la _Funcion de cost de la Regresion Logistica (log loss)_. <br>\n",
    "\n",
    "El vector gradiente de esta función de costos con respecto a $\\; \\mathbf{\\theta}^{(k)} \\;$ es: \n",
    "$$\n",
    "Cross\\; entropy\\; gradient\\; vector\\; for\\; class\\; k\\\\\n",
    "\n",
    "\\nabla_{\\mathbf{\\theta}^{(k)}} J(\\mathbf{\\Theta}) = \\frac{1}{m}\\sum \\limits_{i=1}^{m}\\left(\\hat{p}_{k}^{(i)} - y_{k}^{(i)} \\right)\\mathbf{x}^{(i)}\n",
    "\n",
    "$$\n",
    "\n",
    "Ahora que se puede calcular el vector gradiente para cada clase, y despues se pude usar el _**Gradient Descent**_ (o cualquier otro algoritmo de optimizacion) para encontrar la matriz de parametros $\\; \\mathbf{\\Theta} \\;$ que minimiza el costo de la función.\n",
    "\n",
    "#### Implementando con Scikit-learn."
   ]
  },
  {
   "cell_type": "code",
   "execution_count": 5,
   "metadata": {},
   "outputs": [],
   "source": [
    "# Instanciando una Regresion Softmax\n",
    "softmax_reg = LogisticRegression(\n",
    "    multi_class='multinomial',\n",
    "    solver='lbfgs',\n",
    "    C=10\n",
    ")"
   ]
  },
  {
   "cell_type": "code",
   "execution_count": 6,
   "metadata": {},
   "outputs": [
    {
     "data": {
      "text/html": [
       "<style>#sk-container-id-2 {color: black;}#sk-container-id-2 pre{padding: 0;}#sk-container-id-2 div.sk-toggleable {background-color: white;}#sk-container-id-2 label.sk-toggleable__label {cursor: pointer;display: block;width: 100%;margin-bottom: 0;padding: 0.3em;box-sizing: border-box;text-align: center;}#sk-container-id-2 label.sk-toggleable__label-arrow:before {content: \"▸\";float: left;margin-right: 0.25em;color: #696969;}#sk-container-id-2 label.sk-toggleable__label-arrow:hover:before {color: black;}#sk-container-id-2 div.sk-estimator:hover label.sk-toggleable__label-arrow:before {color: black;}#sk-container-id-2 div.sk-toggleable__content {max-height: 0;max-width: 0;overflow: hidden;text-align: left;background-color: #f0f8ff;}#sk-container-id-2 div.sk-toggleable__content pre {margin: 0.2em;color: black;border-radius: 0.25em;background-color: #f0f8ff;}#sk-container-id-2 input.sk-toggleable__control:checked~div.sk-toggleable__content {max-height: 200px;max-width: 100%;overflow: auto;}#sk-container-id-2 input.sk-toggleable__control:checked~label.sk-toggleable__label-arrow:before {content: \"▾\";}#sk-container-id-2 div.sk-estimator input.sk-toggleable__control:checked~label.sk-toggleable__label {background-color: #d4ebff;}#sk-container-id-2 div.sk-label input.sk-toggleable__control:checked~label.sk-toggleable__label {background-color: #d4ebff;}#sk-container-id-2 input.sk-hidden--visually {border: 0;clip: rect(1px 1px 1px 1px);clip: rect(1px, 1px, 1px, 1px);height: 1px;margin: -1px;overflow: hidden;padding: 0;position: absolute;width: 1px;}#sk-container-id-2 div.sk-estimator {font-family: monospace;background-color: #f0f8ff;border: 1px dotted black;border-radius: 0.25em;box-sizing: border-box;margin-bottom: 0.5em;}#sk-container-id-2 div.sk-estimator:hover {background-color: #d4ebff;}#sk-container-id-2 div.sk-parallel-item::after {content: \"\";width: 100%;border-bottom: 1px solid gray;flex-grow: 1;}#sk-container-id-2 div.sk-label:hover label.sk-toggleable__label {background-color: #d4ebff;}#sk-container-id-2 div.sk-serial::before {content: \"\";position: absolute;border-left: 1px solid gray;box-sizing: border-box;top: 0;bottom: 0;left: 50%;z-index: 0;}#sk-container-id-2 div.sk-serial {display: flex;flex-direction: column;align-items: center;background-color: white;padding-right: 0.2em;padding-left: 0.2em;position: relative;}#sk-container-id-2 div.sk-item {position: relative;z-index: 1;}#sk-container-id-2 div.sk-parallel {display: flex;align-items: stretch;justify-content: center;background-color: white;position: relative;}#sk-container-id-2 div.sk-item::before, #sk-container-id-2 div.sk-parallel-item::before {content: \"\";position: absolute;border-left: 1px solid gray;box-sizing: border-box;top: 0;bottom: 0;left: 50%;z-index: -1;}#sk-container-id-2 div.sk-parallel-item {display: flex;flex-direction: column;z-index: 1;position: relative;background-color: white;}#sk-container-id-2 div.sk-parallel-item:first-child::after {align-self: flex-end;width: 50%;}#sk-container-id-2 div.sk-parallel-item:last-child::after {align-self: flex-start;width: 50%;}#sk-container-id-2 div.sk-parallel-item:only-child::after {width: 0;}#sk-container-id-2 div.sk-dashed-wrapped {border: 1px dashed gray;margin: 0 0.4em 0.5em 0.4em;box-sizing: border-box;padding-bottom: 0.4em;background-color: white;}#sk-container-id-2 div.sk-label label {font-family: monospace;font-weight: bold;display: inline-block;line-height: 1.2em;}#sk-container-id-2 div.sk-label-container {text-align: center;}#sk-container-id-2 div.sk-container {/* jupyter's `normalize.less` sets `[hidden] { display: none; }` but bootstrap.min.css set `[hidden] { display: none !important; }` so we also need the `!important` here to be able to override the default hidden behavior on the sphinx rendered scikit-learn.org. See: https://github.com/scikit-learn/scikit-learn/issues/21755 */display: inline-block !important;position: relative;}#sk-container-id-2 div.sk-text-repr-fallback {display: none;}</style><div id=\"sk-container-id-2\" class=\"sk-top-container\"><div class=\"sk-text-repr-fallback\"><pre>LogisticRegression(C=10, multi_class=&#x27;multinomial&#x27;)</pre><b>In a Jupyter environment, please rerun this cell to show the HTML representation or trust the notebook. <br />On GitHub, the HTML representation is unable to render, please try loading this page with nbviewer.org.</b></div><div class=\"sk-container\" hidden><div class=\"sk-item\"><div class=\"sk-estimator sk-toggleable\"><input class=\"sk-toggleable__control sk-hidden--visually\" id=\"sk-estimator-id-2\" type=\"checkbox\" checked><label for=\"sk-estimator-id-2\" class=\"sk-toggleable__label sk-toggleable__label-arrow\">LogisticRegression</label><div class=\"sk-toggleable__content\"><pre>LogisticRegression(C=10, multi_class=&#x27;multinomial&#x27;)</pre></div></div></div></div></div>"
      ],
      "text/plain": [
       "LogisticRegression(C=10, multi_class='multinomial')"
      ]
     },
     "execution_count": 6,
     "metadata": {},
     "output_type": "execute_result"
    }
   ],
   "source": [
    "# Ajustando modelo\n",
    "softmax_reg.fit(X_train, Y_train)"
   ]
  },
  {
   "cell_type": "code",
   "execution_count": 7,
   "metadata": {},
   "outputs": [
    {
     "data": {
      "text/plain": [
       "array([ 18.87514796,   6.3844344 , -25.25958236])"
      ]
     },
     "execution_count": 7,
     "metadata": {},
     "output_type": "execute_result"
    }
   ],
   "source": [
    "softmax_reg.intercept_"
   ]
  },
  {
   "cell_type": "code",
   "execution_count": 8,
   "metadata": {},
   "outputs": [
    {
     "data": {
      "text/plain": [
       "array([[-4.58614563, -2.24129385],\n",
       "       [ 0.16068263, -2.15860167],\n",
       "       [ 4.425463  ,  4.39989552]])"
      ]
     },
     "execution_count": 8,
     "metadata": {},
     "output_type": "execute_result"
    }
   ],
   "source": [
    "softmax_reg.coef_"
   ]
  },
  {
   "cell_type": "code",
   "execution_count": 11,
   "metadata": {},
   "outputs": [
    {
     "name": "stdout",
     "output_type": "stream",
     "text": [
      "Softmax Regression accuracy = 0.96\n"
     ]
    }
   ],
   "source": [
    "# Calculando la precisión\n",
    "accuracy = softmax_reg.score(X_train, Y_train)\n",
    "print(f\"Softmax Regression accuracy = {accuracy}\")"
   ]
  },
  {
   "cell_type": "code",
   "execution_count": 12,
   "metadata": {},
   "outputs": [
    {
     "data": {
      "text/plain": [
       "array([0., 0., 0., 0., 0., 0., 0., 0., 0., 0., 0., 0., 0., 0., 0., 0., 0.,\n",
       "       0., 0., 0., 0., 0., 0., 0., 0., 0., 0., 0., 0., 0., 0., 0., 0., 0.,\n",
       "       0., 0., 0., 0., 0., 0., 0., 0., 0., 0., 0., 0., 0., 0., 0., 0., 1.,\n",
       "       1., 1., 1., 1., 1., 1., 1., 1., 1., 1., 1., 1., 1., 1., 1., 1., 1.,\n",
       "       1., 1., 2., 1., 1., 1., 1., 1., 1., 2., 1., 1., 1., 1., 1., 2., 1.,\n",
       "       1., 1., 1., 1., 1., 1., 1., 1., 1., 1., 1., 1., 1., 1., 1., 2., 2.,\n",
       "       2., 2., 2., 2., 1., 2., 2., 2., 2., 2., 2., 2., 2., 2., 2., 2., 2.,\n",
       "       1., 2., 2., 2., 2., 2., 2., 2., 2., 2., 2., 2., 2., 2., 1., 2., 2.,\n",
       "       2., 2., 2., 2., 2., 2., 2., 2., 2., 2., 2., 2., 2., 2.])"
      ]
     },
     "execution_count": 12,
     "metadata": {},
     "output_type": "execute_result"
    }
   ],
   "source": [
    "# Haciendo predicciones\n",
    "predictions = softmax_reg.predict(X_train)\n",
    "predictions"
   ]
  },
  {
   "cell_type": "code",
   "execution_count": 13,
   "metadata": {},
   "outputs": [
    {
     "data": {
      "image/png": "[encoded data removed]",
      "text/plain": [
       "<Figure size 640x480 with 2 Axes>"
      ]
     },
     "metadata": {},
     "output_type": "display_data"
    }
   ],
   "source": [
    "# Visualizacion de los resultados\n",
    "cm = metrics.confusion_matrix(Y_train, predictions)\n",
    "\n",
    "cm_display = metrics.ConfusionMatrixDisplay(confusion_matrix=cm, display_labels=iris.target_names)\n",
    "cm_display.plot()\n",
    "plt.show()"
   ]
  },
  {
   "cell_type": "markdown",
   "metadata": {},
   "source": [
    "### Conclusiones\n",
    "Podemos obervar que ambos modelos dan muy buenos resultados, asi que podemos optar por la opcion que mas nos parezca adecuada despues de la evaluacion de resulados."
   ]
  },
  {
   "cell_type": "markdown",
   "metadata": {},
   "source": []
  }
 ],
 "metadata": {
  "kernelspec": {
   "display_name": "caipc",
   "language": "python",
   "name": "python3"
  },
  "language_info": {
   "codemirror_mode": {
    "name": "ipython",
    "version": 3
   },
   "file_extension": ".py",
   "mimetype": "text/x-python",
   "name": "python",
   "nbconvert_exporter": "python",
   "pygments_lexer": "ipython3",
   "version": "3.11.5"
  }
 },
 "nbformat": 4,
 "nbformat_minor": 2
}
