{
 "cells": [
  {
   "cell_type": "markdown",
   "id": "8de330eb-ecd7-47b8-8c86-ba4b22b6bcd5",
   "metadata": {},
   "source": [
    "# Optimizacion de hiperparametros.\n",
    "\n",
    "En la leccion anterior aprendimos que la seleccion de rasgos relevantes es la clave para mejorar la precision del modelo, y no solo el aumento de los rasgos <br>\n",
    "utilizados en la clasificacion.<br>\n",
    "\n",
    "Ahora nos centraremos en aumentar _**k**_, el numero de vecinos mas cercanos que el modelo utiliza para hacer predicciones. Variar el valor de _**k**_ afecta <br>\n",
    "el comportamiento del modelo independientemente de los datos que se utilizan para hacer las predicciones. <br>\n",
    "\n",
    "_Los valores que afectan al comportamiento y el rendimiento de un modelo y que no estan relacionados con los datos utilizados se denominan **hiperparametros.**_<br>\n",
    "\n",
    "La _optimizacion de hiperparametros_ consiste en encontrar el valor optimo de los mismos. Una tecnica senscilla pero comun para ello, se conoce como _busqueda <br>\n",
    "en cuadricula_, que consiste en:\n",
    "- Seleccionar un subconjunto de los posibles valores de los hiperparametros.\n",
    "- Entrenar un modelo utilizando cada uno de estos valores de hiperparametros.\n",
    "- Evaluar el rendimiento de cada modelo.\n",
    "- Seleccionar el valor de los hiperparametros que de lugar al valor de error mas bajo."
   ]
  },
  {
   "cell_type": "markdown",
   "id": "8e4ba2d6-14a1-43a9-8f3e-0ce81c5d2d40",
   "metadata": {},
   "source": [
    "#### Tecnica de _busqueda en cuadricula_. "
   ]
  },
  {
   "cell_type": "code",
   "execution_count": 22,
   "id": "cb6143c3-294f-4224-957e-66b7635ca728",
   "metadata": {},
   "outputs": [],
   "source": [
    "import pandas as pd\n",
    "\n",
    "from sklearn.neighbors import KNeighborsRegressor\n",
    "from sklearn.metrics import mean_squared_error"
   ]
  },
  {
   "cell_type": "code",
   "execution_count": 29,
   "id": "c9f6285c-580a-4472-8e14-3aafb2f39323",
   "metadata": {},
   "outputs": [],
   "source": [
    "#######################################################\n",
    "# Limpiamos la columna de interes, en este caso 'price'\n",
    "#######################################################\n",
    "\n",
    "# Leyendo datos y acomodandolos aleatoreamente\n",
    "dc_listings = pd.read_csv('dc_airbnb.csv')\n",
    "\n",
    "# Convirtiendo la columna price a float (limpiando datos)\n",
    "stripped_commas = dc_listings['price'].str.replace(',', '')\n",
    "stripped_dollars = stripped_commas.str.replace('$', '')\n",
    "dc_listings['price'] = stripped_dollars.astype('float')"
   ]
  },
  {
   "cell_type": "code",
   "execution_count": 30,
   "id": "9c824eaa-0f3a-46a0-84eb-14db506557bf",
   "metadata": {},
   "outputs": [
    {
     "name": "stdout",
     "output_type": "stream",
     "text": [
      "accommodates            0\n",
      "bedrooms               21\n",
      "bathrooms              27\n",
      "beds                   11\n",
      "price                   0\n",
      "cleaning_fee         1388\n",
      "security_deposit     2297\n",
      "minimum_nights          0\n",
      "maximum_nights          0\n",
      "number_of_reviews       0\n",
      "dtype: int64\n"
     ]
    }
   ],
   "source": [
    "#####################################\n",
    "# Eliminamos columnas no convenientes\n",
    "#####################################\n",
    "\n",
    "drop_columns = ['room_type','city','state','latitude','longitude','zipcode',\n",
    "                'host_response_rate','host_acceptance_rate','host_listings_count']\n",
    "dc_listings = dc_listings.drop(drop_columns, axis=1)\n",
    "#dc_listings.head()\n",
    "#print(dc_listings.isnull())\n",
    "print(dc_listings.isnull().sum())"
   ]
  },
  {
   "cell_type": "code",
   "execution_count": 31,
   "id": "25945dfb-2324-4e76-a525-ba888b16d08b",
   "metadata": {},
   "outputs": [
    {
     "name": "stdout",
     "output_type": "stream",
     "text": [
      "accommodates         0\n",
      "bedrooms             0\n",
      "bathrooms            0\n",
      "beds                 0\n",
      "price                0\n",
      "minimum_nights       0\n",
      "maximum_nights       0\n",
      "number_of_reviews    0\n",
      "dtype: int64\n"
     ]
    }
   ],
   "source": [
    "####################################################\n",
    "# Eliminamos columnas con valores nulos importantes\n",
    "####################################################\n",
    "\n",
    "dc_listings = dc_listings.drop(['cleaning_fee','security_deposit'], axis=1)\n",
    "dc_listings = dc_listings.dropna(axis=0)\n",
    "print(dc_listings.isnull().sum())"
   ]
  },
  {
   "cell_type": "code",
   "execution_count": 32,
   "id": "a711ce3f-43d5-4966-92d1-e9975ea9ee2c",
   "metadata": {},
   "outputs": [
    {
     "name": "stdout",
     "output_type": "stream",
     "text": [
      "   accommodates  bedrooms  ...  maximum_nights  number_of_reviews\n",
      "0      0.401366 -0.249467  ...       -0.016573          -0.516709\n",
      "1      1.399275  2.129218  ...       -0.016603           1.706535\n",
      "2     -1.095499 -0.249467  ...       -0.016573          -0.482505\n",
      "3     -0.596544 -0.249467  ...       -0.016573          -0.516709\n",
      "4      0.401366 -0.249467  ...       -0.016573          -0.516709\n",
      "\n",
      "[5 rows x 8 columns]\n"
     ]
    }
   ],
   "source": [
    "##########################################\n",
    "# Normalizar todos los valores masivamente\n",
    "##########################################\n",
    "\n",
    "normalized_listings = (dc_listings - dc_listings.mean()) / (dc_listings.std())\n",
    "normalized_listings['price'] = dc_listings['price'] # como 'price' es el target ese no lo normalizamos\n",
    "print(normalized_listings.head())"
   ]
  },
  {
   "cell_type": "code",
   "execution_count": 33,
   "id": "9391cec0-b70c-4945-b5ee-88525869962a",
   "metadata": {},
   "outputs": [],
   "source": [
    "# Leyendo datos de entrenamiento y prueba de la leccion anterior\n",
    "# train_df = pd.read_csv('./train_df.csv')\n",
    "# test_df = pd.read_csv('./test_df.csv')\n",
    "train_df = normalized_listings.iloc[0:2792]\n",
    "test_df = normalized_listings.iloc[2792:]\n",
    "\n",
    "# Estableciendo hiperparametros\n",
    "hyper_params = [ i+1 for i in range(20)]\n",
    "\n",
    "# Lista para guardar MSE de cada hiperparametro, en este caso 'k'\n",
    "mse_values = []\n",
    "\n",
    "# Seleccionando caracteristicas de los datos\n",
    "train_columns = ['accommodates', 'bedrooms', 'bathrooms', 'number_of_reviews']\n",
    "target = 'price'\n",
    "\n",
    "# Aplicando la busqueda en cuadricula\n",
    "for k in hyper_params:\n",
    "    knn = KNeighborsRegressor(n_neighbors=k, algorithm='brute')\n",
    "    knn.fit(train_df[train_columns], train_df[target])\n",
    "    predictions = knn.predict(test_df[train_columns])\n",
    "    mse = mean_squared_error(test_df[target], predictions)\n",
    "    mse_values.append(mse)"
   ]
  },
  {
   "cell_type": "code",
   "execution_count": 34,
   "id": "064f0ddb-89a4-4660-81b0-2ff6cccfff0d",
   "metadata": {},
   "outputs": [
    {
     "data": {
      "image/png": "[encoded data removed]",
      "text/plain": [
       "<Figure size 640x480 with 1 Axes>"
      ]
     },
     "metadata": {},
     "output_type": "display_data"
    },
    {
     "name": "stdout",
     "output_type": "stream",
     "text": [
      "K = 1 MSE = 29556.417519908988\n",
      "K = 2 MSE = 17440.759670079635\n",
      "K = 3 MSE = 13266.01984578435\n",
      "K = 4 MSE = 13062.795364050056\n",
      "K = 5 MSE = 12786.786393629121\n",
      "K = 6 MSE = 12243.019719378084\n",
      "K = 7 MSE = 11771.018968679624\n",
      "K = 8 MSE = 12396.985388225256\n",
      "K = 9 MSE = 12034.794940940184\n",
      "K = 10 MSE = 12118.78457337884\n",
      "K = 11 MSE = 12128.965419005444\n",
      "K = 12 MSE = 12181.80956895462\n",
      "K = 13 MSE = 12130.30195690369\n",
      "K = 14 MSE = 12099.949606463748\n",
      "K = 15 MSE = 12204.420528378207\n",
      "K = 16 MSE = 12193.205435864618\n",
      "K = 17 MSE = 12221.438997602656\n",
      "K = 18 MSE = 12077.48573715923\n",
      "K = 19 MSE = 12362.92954408655\n",
      "K = 20 MSE = 12215.84837883959\n"
     ]
    }
   ],
   "source": [
    "import matplotlib.pyplot as plt\n",
    "\n",
    "plt.scatter(hyper_params, mse_values)\n",
    "plt.show()\n",
    "\n",
    "for k, mse in enumerate(mse_values):\n",
    "    print(f'K = {k+1} MSE = {mse}')"
   ]
  },
  {
   "cell_type": "code",
   "execution_count": null,
   "id": "a6419326-9fae-4aaa-b2fb-a501391d9ceb",
   "metadata": {},
   "outputs": [],
   "source": []
  }
 ],
 "metadata": {
  "kernelspec": {
   "display_name": "Python 3 (ipykernel)",
   "language": "python",
   "name": "python3"
  },
  "language_info": {
   "codemirror_mode": {
    "name": "ipython",
    "version": 3
   },
   "file_extension": ".py",
   "mimetype": "text/x-python",
   "name": "python",
   "nbconvert_exporter": "python",
   "pygments_lexer": "ipython3",
   "version": "3.11.5"
  }
 },
 "nbformat": 4,
 "nbformat_minor": 5
}
