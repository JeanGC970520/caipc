{
 "cells": [
  {
   "cell_type": "markdown",
   "id": "71501548-f3d8-4d21-b291-a1ee9cb5a07d",
   "metadata": {},
   "source": [
    "# Evaluacion del rendimiento del módelo"
   ]
  },
  {
   "cell_type": "markdown",
   "id": "c2130e56-6d71-4d6f-82d4-e431209c640e",
   "metadata": {},
   "source": [
    "Vamos a utilizar la _**validacion de entrenamiento/prueba**_ <br><br>\n",
    "\n",
    "La cual consiste en dividir el conjunto de datos en dos: _conjuntos de entrenamiento_ y _conjunto de prueba_.<br>\n",
    "Siguiendo los siguintes pasos: <br>\n",
    "- Generar el _Conjunto de entrenamiento_ (75% de el conjunto original).    \n",
    "- Generar el _Conjunto de prueba_ (25% de el conjunto original).\n",
    "- Utilizar el _conjunto de entrenamiento_ para predecir los valores del precio del _conjunto de prueba_.\n",
    "- Comparar los valores predichos con los precios del _conjunto de prueba_.\n"
   ]
  },
  {
   "cell_type": "code",
   "execution_count": 34,
   "id": "6390f180-6023-457d-872f-a35ca4c4f790",
   "metadata": {},
   "outputs": [],
   "source": [
    "import pandas as pd\n",
    "import numpy as np\n",
    "\n",
    "dc_listings = pd.read_csv('dc_airbnb.csv')\n",
    "\n",
    "stripped_commas = dc_listings['price'].str.replace(',', '')\n",
    "stripped_dollars = stripped_commas.str.replace('$', '')\n",
    "dc_listings['price'] = stripped_dollars.astype('float')\n",
    "\n",
    "train_df = dc_listings.iloc[0:2792].copy()\n",
    "test_df = dc_listings.iloc[2792:].copy()\n"
   ]
  },
  {
   "cell_type": "code",
   "execution_count": 35,
   "id": "900a7147-49fd-4707-82f1-3ae7447c6d3b",
   "metadata": {},
   "outputs": [],
   "source": [
    "def predict_price(new_listings):\n",
    "    temp_df = train_df.copy()\n",
    "    temp_df['distance'] = temp_df['accommodates'].apply( lambda x_acc: np.abs(x_acc - new_listings) )\n",
    "    temp_df = temp_df.sort_values('distance')\n",
    "    nearest_neighbor_prices = temp_df.iloc[0:5]['price']\n",
    "    predicted_price = nearest_neighbor_prices.mean()\n",
    "    return (predicted_price)"
   ]
  },
  {
   "cell_type": "code",
   "execution_count": 36,
   "id": "b1c78128-6555-4431-98dd-e23b79d747ac",
   "metadata": {},
   "outputs": [
    {
     "data": {
      "text/html": [
       "<div>\n",
       "<style scoped>\n",
       "    .dataframe tbody tr th:only-of-type {\n",
       "        vertical-align: middle;\n",
       "    }\n",
       "\n",
       "    .dataframe tbody tr th {\n",
       "        vertical-align: top;\n",
       "    }\n",
       "\n",
       "    .dataframe thead th {\n",
       "        text-align: right;\n",
       "    }\n",
       "</style>\n",
       "<table border=\"1\" class=\"dataframe\">\n",
       "  <thead>\n",
       "    <tr style=\"text-align: right;\">\n",
       "      <th></th>\n",
       "      <th>host_response_rate</th>\n",
       "      <th>host_acceptance_rate</th>\n",
       "      <th>host_listings_count</th>\n",
       "      <th>accommodates</th>\n",
       "      <th>room_type</th>\n",
       "      <th>bedrooms</th>\n",
       "      <th>bathrooms</th>\n",
       "      <th>beds</th>\n",
       "      <th>price</th>\n",
       "      <th>cleaning_fee</th>\n",
       "      <th>security_deposit</th>\n",
       "      <th>minimum_nights</th>\n",
       "      <th>maximum_nights</th>\n",
       "      <th>number_of_reviews</th>\n",
       "      <th>latitude</th>\n",
       "      <th>longitude</th>\n",
       "      <th>city</th>\n",
       "      <th>zipcode</th>\n",
       "      <th>state</th>\n",
       "      <th>predicted_price</th>\n",
       "    </tr>\n",
       "  </thead>\n",
       "  <tbody>\n",
       "    <tr>\n",
       "      <th>2792</th>\n",
       "      <td>20%</td>\n",
       "      <td>75%</td>\n",
       "      <td>1</td>\n",
       "      <td>2</td>\n",
       "      <td>Entire home/apt</td>\n",
       "      <td>0.0</td>\n",
       "      <td>1.0</td>\n",
       "      <td>1.0</td>\n",
       "      <td>120.0</td>\n",
       "      <td>NaN</td>\n",
       "      <td>NaN</td>\n",
       "      <td>1</td>\n",
       "      <td>1125</td>\n",
       "      <td>8</td>\n",
       "      <td>38.922187</td>\n",
       "      <td>-77.032475</td>\n",
       "      <td>Washington</td>\n",
       "      <td>20009</td>\n",
       "      <td>DC</td>\n",
       "      <td>104.0</td>\n",
       "    </tr>\n",
       "    <tr>\n",
       "      <th>2793</th>\n",
       "      <td>100%</td>\n",
       "      <td>25%</td>\n",
       "      <td>2</td>\n",
       "      <td>3</td>\n",
       "      <td>Entire home/apt</td>\n",
       "      <td>2.0</td>\n",
       "      <td>2.0</td>\n",
       "      <td>1.0</td>\n",
       "      <td>140.0</td>\n",
       "      <td>$75.00</td>\n",
       "      <td>$150.00</td>\n",
       "      <td>2</td>\n",
       "      <td>1125</td>\n",
       "      <td>7</td>\n",
       "      <td>38.931681</td>\n",
       "      <td>-77.044739</td>\n",
       "      <td>Washington</td>\n",
       "      <td>20010</td>\n",
       "      <td>DC</td>\n",
       "      <td>201.2</td>\n",
       "    </tr>\n",
       "    <tr>\n",
       "      <th>2794</th>\n",
       "      <td>NaN</td>\n",
       "      <td>NaN</td>\n",
       "      <td>1</td>\n",
       "      <td>4</td>\n",
       "      <td>Entire home/apt</td>\n",
       "      <td>2.0</td>\n",
       "      <td>1.0</td>\n",
       "      <td>1.0</td>\n",
       "      <td>299.0</td>\n",
       "      <td>NaN</td>\n",
       "      <td>NaN</td>\n",
       "      <td>2</td>\n",
       "      <td>1125</td>\n",
       "      <td>5</td>\n",
       "      <td>38.933765</td>\n",
       "      <td>-77.031488</td>\n",
       "      <td>Washington</td>\n",
       "      <td>20010</td>\n",
       "      <td>DC</td>\n",
       "      <td>145.8</td>\n",
       "    </tr>\n",
       "    <tr>\n",
       "      <th>2795</th>\n",
       "      <td>100%</td>\n",
       "      <td>100%</td>\n",
       "      <td>1</td>\n",
       "      <td>3</td>\n",
       "      <td>Entire home/apt</td>\n",
       "      <td>1.0</td>\n",
       "      <td>1.0</td>\n",
       "      <td>1.0</td>\n",
       "      <td>85.0</td>\n",
       "      <td>$30.00</td>\n",
       "      <td>$250.00</td>\n",
       "      <td>1</td>\n",
       "      <td>92</td>\n",
       "      <td>2</td>\n",
       "      <td>38.925692</td>\n",
       "      <td>-77.032616</td>\n",
       "      <td>Washington</td>\n",
       "      <td>20009</td>\n",
       "      <td>DC</td>\n",
       "      <td>201.2</td>\n",
       "    </tr>\n",
       "    <tr>\n",
       "      <th>2796</th>\n",
       "      <td>100%</td>\n",
       "      <td>100%</td>\n",
       "      <td>1</td>\n",
       "      <td>6</td>\n",
       "      <td>Entire home/apt</td>\n",
       "      <td>2.0</td>\n",
       "      <td>2.0</td>\n",
       "      <td>3.0</td>\n",
       "      <td>175.0</td>\n",
       "      <td>$65.00</td>\n",
       "      <td>$850.00</td>\n",
       "      <td>1</td>\n",
       "      <td>1125</td>\n",
       "      <td>62</td>\n",
       "      <td>38.927572</td>\n",
       "      <td>-77.033604</td>\n",
       "      <td>Washington</td>\n",
       "      <td>20009</td>\n",
       "      <td>DC</td>\n",
       "      <td>187.2</td>\n",
       "    </tr>\n",
       "  </tbody>\n",
       "</table>\n",
       "</div>"
      ],
      "text/plain": [
       "     host_response_rate host_acceptance_rate  host_listings_count  \\\n",
       "2792                20%                  75%                    1   \n",
       "2793               100%                  25%                    2   \n",
       "2794                NaN                  NaN                    1   \n",
       "2795               100%                 100%                    1   \n",
       "2796               100%                 100%                    1   \n",
       "\n",
       "      accommodates        room_type  bedrooms  bathrooms  beds  price  \\\n",
       "2792             2  Entire home/apt       0.0        1.0   1.0  120.0   \n",
       "2793             3  Entire home/apt       2.0        2.0   1.0  140.0   \n",
       "2794             4  Entire home/apt       2.0        1.0   1.0  299.0   \n",
       "2795             3  Entire home/apt       1.0        1.0   1.0   85.0   \n",
       "2796             6  Entire home/apt       2.0        2.0   3.0  175.0   \n",
       "\n",
       "     cleaning_fee security_deposit  minimum_nights  maximum_nights  \\\n",
       "2792          NaN              NaN               1            1125   \n",
       "2793       $75.00          $150.00               2            1125   \n",
       "2794          NaN              NaN               2            1125   \n",
       "2795       $30.00          $250.00               1              92   \n",
       "2796       $65.00          $850.00               1            1125   \n",
       "\n",
       "      number_of_reviews   latitude  longitude        city zipcode state  \\\n",
       "2792                  8  38.922187 -77.032475  Washington   20009    DC   \n",
       "2793                  7  38.931681 -77.044739  Washington   20010    DC   \n",
       "2794                  5  38.933765 -77.031488  Washington   20010    DC   \n",
       "2795                  2  38.925692 -77.032616  Washington   20009    DC   \n",
       "2796                 62  38.927572 -77.033604  Washington   20009    DC   \n",
       "\n",
       "      predicted_price  \n",
       "2792            104.0  \n",
       "2793            201.2  \n",
       "2794            145.8  \n",
       "2795            201.2  \n",
       "2796            187.2  "
      ]
     },
     "execution_count": 36,
     "metadata": {},
     "output_type": "execute_result"
    }
   ],
   "source": [
    "test_df['predicted_price'] = test_df['accommodates'].apply( predict_price )\n",
    "test_df.head()"
   ]
  },
  {
   "cell_type": "markdown",
   "id": "45951b0e-1afd-4bba-a288-7db1098d4fd2",
   "metadata": {},
   "source": [
    "## Metricas de error"
   ]
  },
  {
   "cell_type": "markdown",
   "id": "a445633b-c01e-4972-86af-74b33aed6da6",
   "metadata": {},
   "source": [
    "Ahora necesitamos cuantificar la calidad de las predicciones. <br>\n",
    "Esta _metrica de error_ cuantificará la inexacitud del modelo. <br> <br>\n",
    "\n",
    "Para este caso indicara la diferencia entre los valores predichos y los valores reales del precio."
   ]
  },
  {
   "cell_type": "markdown",
   "id": "63320361-e1fa-4048-8255-597a25d330a8",
   "metadata": {},
   "source": [
    "#### MAE (Mean Absolute Error)"
   ]
  },
  {
   "cell_type": "markdown",
   "id": "266ae9d2-dc0e-4ef8-9467-69014a09d4d6",
   "metadata": {},
   "source": [
    "Una metrica de error que nos ayudaria a ver un poco que tan bueno es nuestro modelo seria la del _error medio absoluto_.<br>\n",
    "La cual se define como: $$ MAE = \\displaystyle\\frac{1}{n}\\sum\\limits_{i=1}^n|(actual_1 - predict_1)| + ... + |(actual_n - predict_n)|$$"
   ]
  },
  {
   "cell_type": "code",
   "execution_count": 37,
   "id": "e9a6215a-4133-4782-ae35-412d600e3170",
   "metadata": {},
   "outputs": [
    {
     "name": "stdout",
     "output_type": "stream",
     "text": [
      "El valor del MAE es: 58.60794844253491\n"
     ]
    }
   ],
   "source": [
    "test_df['error'] = np.abs( test_df['price'] - test_df['predicted_price'] )\n",
    "mae = test_df['error'].mean()\n",
    "print(f\"El valor del MAE es: {mae}\")"
   ]
  },
  {
   "cell_type": "markdown",
   "id": "471ef583-d63f-49a6-95c7-6cf5779db934",
   "metadata": {},
   "source": [
    "#### MSE (Mean Square Error)"
   ]
  },
  {
   "cell_type": "markdown",
   "id": "2f287648-56d6-4704-9db4-78a17d0726b0",
   "metadata": {},
   "source": [
    "El error medio al cuadrado (MSE) aclara la diferencia entre los valores predichos y los reales. <br>\n",
    "Por ejemplo: una prediccion que se desvia en 100 dolares que tendra un error de 10,000 es 100 veces mayor que una prediccion <br>\n",
    "que se desvia solo 10 dolares que tendra un error de 100."
   ]
  },
  {
   "cell_type": "markdown",
   "id": "3d035a11-d6f9-41d8-a7a4-e0114f3c7358",
   "metadata": {},
   "source": [
    "El MSE esta definido por la siguiente ecuacion: $$ MSE = \\frac{1}{n}\\sum\\limits_{k=1}^n(actual_1 - predicted_1)^2 + ... + (actual_n - predicted_n)^2 $$\n",
    "\n",
    "Dode $n$ representa el numero de filas del conjunto de prueba."
   ]
  },
  {
   "cell_type": "code",
   "execution_count": 38,
   "id": "b73275f2-2c5a-4ffd-80a4-dcb4d0c3671b",
   "metadata": {},
   "outputs": [
    {
     "name": "stdout",
     "output_type": "stream",
     "text": [
      "El valor del MSE es: 19031.671493018257\n"
     ]
    }
   ],
   "source": [
    "test_df['squared_error'] = ( test_df['price'] - test_df['predicted_price'] )**(2)\n",
    "mse = test_df['squared_error'].mean()\n",
    "print(f\"El valor del MSE es: {mse}\")"
   ]
  },
  {
   "cell_type": "markdown",
   "id": "eb1f4a31-83a5-460b-a4a4-c01e89a8aeae",
   "metadata": {},
   "source": [
    "### ¿Que nos dice esto sobre la calidada de las predicciones y el modelo?"
   ]
  },
  {
   "cell_type": "markdown",
   "id": "47f0ea9f-9873-46ca-b8f3-cfc5f283ca24",
   "metadata": {},
   "source": [
    "Por sí mismo, el valor del error cuadratico medio de un solo modelo no es muy útil. Sin embargo, podemos entrenar otro <br>\n",
    "modelo y luego comparar los valores del _MSE_ para ver cual modelo funciona mejor."
   ]
  },
  {
   "cell_type": "markdown",
   "id": "b19af221-1cb1-48d3-97d2-6817f46fbbf0",
   "metadata": {},
   "source": [
    "Entrenando ahora el modelo utilizando la columan _bathrooms_."
   ]
  },
  {
   "cell_type": "code",
   "execution_count": 39,
   "id": "0244325d-3276-4812-9d10-de9976a1b514",
   "metadata": {},
   "outputs": [],
   "source": [
    "def predicted_price( new_listings ):\n",
    "    temp_df = train_df.copy()\n",
    "    temp_df['distance'] = temp_df['bathrooms'].apply( lambda x_baths: np.abs(x_baths - new_listings) )\n",
    "    temp_df = temp_df.sort_values('distance')\n",
    "    nearest_neighbors_prices =  temp_df.iloc[0:5]['price']\n",
    "    predicted_price = nearest_neighbors_prices.mean()\n",
    "    return (predicted_price)"
   ]
  },
  {
   "cell_type": "code",
   "execution_count": 42,
   "id": "b2431dc1-65ed-4095-a0d2-eb5fdce13e67",
   "metadata": {},
   "outputs": [
    {
     "name": "stdout",
     "output_type": "stream",
     "text": [
      "El MSE usando la caracteristica \"bathroom\" es: 18405.44408163265\n"
     ]
    }
   ],
   "source": [
    "test_df['predicted_price'] = test_df['bathrooms'].apply( predicted_price )\n",
    "test_df['squared_error'] = (test_df['price'] - test_df['predicted_price'])**(2)\n",
    "mse = test_df['squared_error'].mean()\n",
    "print(f'El MSE usando la caracteristica \"bathroom\" es: {mse}')"
   ]
  },
  {
   "cell_type": "markdown",
   "id": "6a69b65a-1500-4ffa-af88-193ab524e9ca",
   "metadata": {},
   "source": [
    "Aparentemente el segundo modelo es de mejor calidad. Ya que tiene un MSE mas chico."
   ]
  },
  {
   "cell_type": "markdown",
   "id": "9c433273-d838-4962-99ba-e99b2d773dd1",
   "metadata": {},
   "source": [
    "## Raiz del Error Cuadratico Medio (RMSE)"
   ]
  },
  {
   "cell_type": "markdown",
   "id": "a8993d7f-1e02-4e5a-8305-bdb9f6d9aa69",
   "metadata": {},
   "source": [
    "Loa valores del _MSE_ aunque nos da una idea relativa de cual es el mejor modelo. No nos ayuda a entenrir si el rendiemnto es lo suficientemente <br>\n",
    "bueno en general. Esto debido a que las unidades estan al cuadrado. En cambio, **la raiz del error cuadratico medio** cuyas unidades son la undad base <br>\n",
    "(en este caso, dolares). Esta metrica esta definida de la siguiente manera: $$ RMSE = \\sqrt{MSE} $$"
   ]
  },
  {
   "cell_type": "markdown",
   "id": "083dc3b8-7ae5-4e51-8d7f-ec4b73e7d36b",
   "metadata": {},
   "source": [
    "Calculando el $ RMSE $ para la columna _bathrooms_ (segundo modelo):"
   ]
  },
  {
   "cell_type": "code",
   "execution_count": 43,
   "id": "bf2f5aa0-71cd-4aec-a4c0-ec9a35afe834",
   "metadata": {},
   "outputs": [
    {
     "name": "stdout",
     "output_type": "stream",
     "text": [
      "El RMSE para el modelo que utiliza la caracteristica \"bathrooms\" es: 135.66666532952246\n"
     ]
    }
   ],
   "source": [
    "rmse_bathrooms = mse ** (1/2)\n",
    "print(f'El RMSE para el modelo que utiliza la caracteristica \"bathrooms\" es: {rmse_bathrooms}')"
   ]
  },
  {
   "cell_type": "markdown",
   "id": "ac5825de-f46a-4fe0-89b3-ada6c3970060",
   "metadata": {},
   "source": [
    "## Comparacion del **MAE** Y EL **RMSE**"
   ]
  },
  {
   "cell_type": "markdown",
   "id": "70b30540-2fcb-4dd0-940a-7d991ca8cc9d",
   "metadata": {},
   "source": [
    "El _RMSE_ dio un valor de aproximadamente  135.6, por lo que debemos esperar que el modelo se equivoque en 135.6 dolares de media para los valores <br>\n",
    "predichos. Este es un error medio muy alto dado el escenario a resolver. Asi que debemos reducir ese error. <br><br>\n",
    "\n",
    "Para entender mejor un modelo especifico, podemos ocmparar multiples metricas de error para el mismo modelo. <br>\n",
    "Si se observa la ecuacion del **MAE**: $$ MAE = \\displaystyle\\frac{1}{n}\\sum\\limits_{i=1}^n|(actual_1 - predict_1)| + ... + |(actual_n - predict_n)|$$ \n",
    "Observará que las diferencias entre los valores predichos y los reales crecen linealmente. Una prediccion que se desvia 10 dolares tiene un error 10 veces mayor que la prediccion que se desvia 1 dolar.<br><br>\n",
    "\n",
    "Sin embargo, si observamos la ecuacion del RMSE: $$ RMSE = \\sqrt{MSE} = \\sqrt{\\frac{\\sum\\limits_{k=1}^n(actual_1 - predicted_1)^2 + ... + (actual_n - predicted_n)^2}{n}} $$ <br>\n",
    "\n",
    "Observará que los errores individuales crecen cuadraticamente y tienen un efecto diferente en el valor final del _RMSE_."
   ]
  },
  {
   "cell_type": "code",
   "execution_count": 48,
   "id": "20f15502-5072-4918-a551-3feed474e99a",
   "metadata": {},
   "outputs": [
    {
     "name": "stdout",
     "output_type": "stream",
     "text": [
      "0      5\n",
      "1     10\n",
      "2      5\n",
      "3     10\n",
      "4      5\n",
      "5     10\n",
      "6      5\n",
      "7     10\n",
      "8      5\n",
      "9     10\n",
      "10     5\n",
      "11    10\n",
      "12     5\n",
      "13    10\n",
      "14     5\n",
      "15    10\n",
      "16     5\n",
      "17    10\n",
      "dtype: int64\n",
      "mae_one = 7.5\n",
      "rmse_one = 7.905694150420948\n",
      "mae_two = 62.5\n",
      "rmse_two = 235.82302686548658\n"
     ]
    }
   ],
   "source": [
    "errors_one = pd.Series( [ 5 if num%2 == 0 else 10 for num in range(0,18) ] )\n",
    "print(errors_one)\n",
    "\n",
    "errors_two =  pd.Series( [ 5, 10, 5, 10, 5, 10, 5, 10, 5, 10, 5, 10, 5, 10, 5, 10, 5, 1000 ] )\n",
    "\n",
    "mae_one = errors_one.sum()/len(errors_one)\n",
    "rmse_one = np.sqrt( (errors_one**2).sum()/len(errors_one) )\n",
    "print(f\"mae_one = {mae_one}\")\n",
    "print(f\"rmse_one = {rmse_one}\")\n",
    "\n",
    "mae_two = errors_two.sum()/len(errors_two)\n",
    "rmse_two = np.sqrt( (errors_two**2).sum()/len(errors_two) )\n",
    "print(f\"mae_two = {mae_two}\")\n",
    "print(f\"rmse_two = {rmse_two}\")"
   ]
  },
  {
   "cell_type": "markdown",
   "id": "9a13adb1-90ca-4230-83c8-a5cda23e8ea6",
   "metadata": {},
   "source": [
    "En general, cabe esperar que el valor del MAE sea mucho menor que el del RMSE. La única diferencia entre los dos conjuntos de errores es el valor extremod de **1000** en **errors_two** en lugar de **10**. Cuando trabajamos con conjuntos de datos mas grandes,  no podemos inspeccionar cada valor para entender si hay uno o algunos **valores atipicos** o si todos los errores son sistematicamente mas altos. Observar la relacion entre el _MAE_ y el _RMSE_ puede ayudarnos a entender si hay errores grandes pero poco frecuentes."
   ]
  },
  {
   "cell_type": "code",
   "execution_count": null,
   "id": "6921b0bf-98de-4f3e-9ca7-4bc46bbe2160",
   "metadata": {},
   "outputs": [],
   "source": []
  }
 ],
 "metadata": {
  "kernelspec": {
   "display_name": "Python 3 (ipykernel)",
   "language": "python",
   "name": "python3"
  },
  "language_info": {
   "codemirror_mode": {
    "name": "ipython",
    "version": 3
   },
   "file_extension": ".py",
   "mimetype": "text/x-python",
   "name": "python",
   "nbconvert_exporter": "python",
   "pygments_lexer": "ipython3",
   "version": "3.11.5"
  }
 },
 "nbformat": 4,
 "nbformat_minor": 5
}
