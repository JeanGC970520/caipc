{
 "cells": [
  {
   "cell_type": "markdown",
   "id": "71501548-f3d8-4d21-b291-a1ee9cb5a07d",
   "metadata": {},
   "source": [
    "# Evaluacion del rendimiento del módelo"
   ]
  },
  {
   "cell_type": "code",
   "execution_count": null,
   "id": "6390f180-6023-457d-872f-a35ca4c4f790",
   "metadata": {},
   "outputs": [],
   "source": []
  }
 ],
 "metadata": {
  "kernelspec": {
   "display_name": "Python 3 (ipykernel)",
   "language": "python",
   "name": "python3"
  },
  "language_info": {
   "codemirror_mode": {
    "name": "ipython",
    "version": 3
   },
   "file_extension": ".py",
   "mimetype": "text/x-python",
   "name": "python",
   "nbconvert_exporter": "python",
   "pygments_lexer": "ipython3",
   "version": "3.11.5"
  }
 },
 "nbformat": 4,
 "nbformat_minor": 5
}
