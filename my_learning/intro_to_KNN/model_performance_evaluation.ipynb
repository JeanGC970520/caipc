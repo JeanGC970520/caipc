{
 "cells": [
  {
   "cell_type": "markdown",
   "id": "71501548-f3d8-4d21-b291-a1ee9cb5a07d",
   "metadata": {},
   "source": [
    "# Evaluacion del rendimiento del módelo"
   ]
  },
  {
   "cell_type": "markdown",
   "id": "c2130e56-6d71-4d6f-82d4-e431209c640e",
   "metadata": {},
   "source": [
    "Vamos a utilizar la _**validacion de entrenamiento/prueba**_ <br><br>\n",
    "\n",
    "La cual consiste en dividir el conjunto de datos en dos: _conjuntos de entrenamiento_ y _conjunto de prueba_.<br>\n",
    "Siguiendo los siguintes pasos: <br>\n",
    "- Generar el _Conjunto de entrenamiento_ (75% de el conjunto original).    \n",
    "- Generar el _Conjunto de prueba_ (25% de el conjunto original).\n",
    "- Utilizar el _conjunto de entrenamiento_ para predecir los valores del precio del _conjunto de prueba_.\n",
    "- Comparar los valores predichos con los precios del _conjunto de prueba_.\n"
   ]
  },
  {
   "cell_type": "code",
   "execution_count": 14,
   "id": "6390f180-6023-457d-872f-a35ca4c4f790",
   "metadata": {},
   "outputs": [],
   "source": [
    "import pandas as pd\n",
    "import numpy as np\n",
    "\n",
    "dc_listings = pd.read_csv('dc_airbnb.csv')\n",
    "\n",
    "stripped_commas = dc_listings['price'].str.replace(',', '')\n",
    "stripped_dollars = stripped_commas.str.replace('$', '')\n",
    "dc_listings['price'] = stripped_dollars.astype('float')\n",
    "\n",
    "train_df = dc_listings.iloc[0:2792].copy()\n",
    "test_df = dc_listings.iloc[2792:].copy()\n"
   ]
  },
  {
   "cell_type": "code",
   "execution_count": 19,
   "id": "900a7147-49fd-4707-82f1-3ae7447c6d3b",
   "metadata": {},
   "outputs": [],
   "source": [
    "def predict_price(new_listings):\n",
    "    temp_df = train_df.copy()\n",
    "    temp_df['distance'] = temp_df['accommodates'].apply( lambda x_acc: np.abs(x_acc - new_listings) )\n",
    "    temp_df = temp_df.sort_values('distance')\n",
    "    nearest_neighbor_prices = temp_df.iloc[0:5]['price']\n",
    "    predicted_price = nearest_neighbor_prices.mean()\n",
    "    return (predicted_price)"
   ]
  },
  {
   "cell_type": "code",
   "execution_count": 20,
   "id": "b1c78128-6555-4431-98dd-e23b79d747ac",
   "metadata": {},
   "outputs": [
    {
     "data": {
      "text/html": [
       "<div>\n",
       "<style scoped>\n",
       "    .dataframe tbody tr th:only-of-type {\n",
       "        vertical-align: middle;\n",
       "    }\n",
       "\n",
       "    .dataframe tbody tr th {\n",
       "        vertical-align: top;\n",
       "    }\n",
       "\n",
       "    .dataframe thead th {\n",
       "        text-align: right;\n",
       "    }\n",
       "</style>\n",
       "<table border=\"1\" class=\"dataframe\">\n",
       "  <thead>\n",
       "    <tr style=\"text-align: right;\">\n",
       "      <th></th>\n",
       "      <th>host_response_rate</th>\n",
       "      <th>host_acceptance_rate</th>\n",
       "      <th>host_listings_count</th>\n",
       "      <th>accommodates</th>\n",
       "      <th>room_type</th>\n",
       "      <th>bedrooms</th>\n",
       "      <th>bathrooms</th>\n",
       "      <th>beds</th>\n",
       "      <th>price</th>\n",
       "      <th>cleaning_fee</th>\n",
       "      <th>security_deposit</th>\n",
       "      <th>minimum_nights</th>\n",
       "      <th>maximum_nights</th>\n",
       "      <th>number_of_reviews</th>\n",
       "      <th>latitude</th>\n",
       "      <th>longitude</th>\n",
       "      <th>city</th>\n",
       "      <th>zipcode</th>\n",
       "      <th>state</th>\n",
       "      <th>predicted_price</th>\n",
       "    </tr>\n",
       "  </thead>\n",
       "  <tbody>\n",
       "    <tr>\n",
       "      <th>2792</th>\n",
       "      <td>20%</td>\n",
       "      <td>75%</td>\n",
       "      <td>1</td>\n",
       "      <td>2</td>\n",
       "      <td>Entire home/apt</td>\n",
       "      <td>0.0</td>\n",
       "      <td>1.0</td>\n",
       "      <td>1.0</td>\n",
       "      <td>120.0</td>\n",
       "      <td>NaN</td>\n",
       "      <td>NaN</td>\n",
       "      <td>1</td>\n",
       "      <td>1125</td>\n",
       "      <td>8</td>\n",
       "      <td>38.922187</td>\n",
       "      <td>-77.032475</td>\n",
       "      <td>Washington</td>\n",
       "      <td>20009</td>\n",
       "      <td>DC</td>\n",
       "      <td>104.0</td>\n",
       "    </tr>\n",
       "    <tr>\n",
       "      <th>2793</th>\n",
       "      <td>100%</td>\n",
       "      <td>25%</td>\n",
       "      <td>2</td>\n",
       "      <td>3</td>\n",
       "      <td>Entire home/apt</td>\n",
       "      <td>2.0</td>\n",
       "      <td>2.0</td>\n",
       "      <td>1.0</td>\n",
       "      <td>140.0</td>\n",
       "      <td>$75.00</td>\n",
       "      <td>$150.00</td>\n",
       "      <td>2</td>\n",
       "      <td>1125</td>\n",
       "      <td>7</td>\n",
       "      <td>38.931681</td>\n",
       "      <td>-77.044739</td>\n",
       "      <td>Washington</td>\n",
       "      <td>20010</td>\n",
       "      <td>DC</td>\n",
       "      <td>201.2</td>\n",
       "    </tr>\n",
       "    <tr>\n",
       "      <th>2794</th>\n",
       "      <td>NaN</td>\n",
       "      <td>NaN</td>\n",
       "      <td>1</td>\n",
       "      <td>4</td>\n",
       "      <td>Entire home/apt</td>\n",
       "      <td>2.0</td>\n",
       "      <td>1.0</td>\n",
       "      <td>1.0</td>\n",
       "      <td>299.0</td>\n",
       "      <td>NaN</td>\n",
       "      <td>NaN</td>\n",
       "      <td>2</td>\n",
       "      <td>1125</td>\n",
       "      <td>5</td>\n",
       "      <td>38.933765</td>\n",
       "      <td>-77.031488</td>\n",
       "      <td>Washington</td>\n",
       "      <td>20010</td>\n",
       "      <td>DC</td>\n",
       "      <td>145.8</td>\n",
       "    </tr>\n",
       "    <tr>\n",
       "      <th>2795</th>\n",
       "      <td>100%</td>\n",
       "      <td>100%</td>\n",
       "      <td>1</td>\n",
       "      <td>3</td>\n",
       "      <td>Entire home/apt</td>\n",
       "      <td>1.0</td>\n",
       "      <td>1.0</td>\n",
       "      <td>1.0</td>\n",
       "      <td>85.0</td>\n",
       "      <td>$30.00</td>\n",
       "      <td>$250.00</td>\n",
       "      <td>1</td>\n",
       "      <td>92</td>\n",
       "      <td>2</td>\n",
       "      <td>38.925692</td>\n",
       "      <td>-77.032616</td>\n",
       "      <td>Washington</td>\n",
       "      <td>20009</td>\n",
       "      <td>DC</td>\n",
       "      <td>201.2</td>\n",
       "    </tr>\n",
       "    <tr>\n",
       "      <th>2796</th>\n",
       "      <td>100%</td>\n",
       "      <td>100%</td>\n",
       "      <td>1</td>\n",
       "      <td>6</td>\n",
       "      <td>Entire home/apt</td>\n",
       "      <td>2.0</td>\n",
       "      <td>2.0</td>\n",
       "      <td>3.0</td>\n",
       "      <td>175.0</td>\n",
       "      <td>$65.00</td>\n",
       "      <td>$850.00</td>\n",
       "      <td>1</td>\n",
       "      <td>1125</td>\n",
       "      <td>62</td>\n",
       "      <td>38.927572</td>\n",
       "      <td>-77.033604</td>\n",
       "      <td>Washington</td>\n",
       "      <td>20009</td>\n",
       "      <td>DC</td>\n",
       "      <td>187.2</td>\n",
       "    </tr>\n",
       "  </tbody>\n",
       "</table>\n",
       "</div>"
      ],
      "text/plain": [
       "     host_response_rate host_acceptance_rate  host_listings_count  \\\n",
       "2792                20%                  75%                    1   \n",
       "2793               100%                  25%                    2   \n",
       "2794                NaN                  NaN                    1   \n",
       "2795               100%                 100%                    1   \n",
       "2796               100%                 100%                    1   \n",
       "\n",
       "      accommodates        room_type  bedrooms  bathrooms  beds  price  \\\n",
       "2792             2  Entire home/apt       0.0        1.0   1.0  120.0   \n",
       "2793             3  Entire home/apt       2.0        2.0   1.0  140.0   \n",
       "2794             4  Entire home/apt       2.0        1.0   1.0  299.0   \n",
       "2795             3  Entire home/apt       1.0        1.0   1.0   85.0   \n",
       "2796             6  Entire home/apt       2.0        2.0   3.0  175.0   \n",
       "\n",
       "     cleaning_fee security_deposit  minimum_nights  maximum_nights  \\\n",
       "2792          NaN              NaN               1            1125   \n",
       "2793       $75.00          $150.00               2            1125   \n",
       "2794          NaN              NaN               2            1125   \n",
       "2795       $30.00          $250.00               1              92   \n",
       "2796       $65.00          $850.00               1            1125   \n",
       "\n",
       "      number_of_reviews   latitude  longitude        city zipcode state  \\\n",
       "2792                  8  38.922187 -77.032475  Washington   20009    DC   \n",
       "2793                  7  38.931681 -77.044739  Washington   20010    DC   \n",
       "2794                  5  38.933765 -77.031488  Washington   20010    DC   \n",
       "2795                  2  38.925692 -77.032616  Washington   20009    DC   \n",
       "2796                 62  38.927572 -77.033604  Washington   20009    DC   \n",
       "\n",
       "      predicted_price  \n",
       "2792            104.0  \n",
       "2793            201.2  \n",
       "2794            145.8  \n",
       "2795            201.2  \n",
       "2796            187.2  "
      ]
     },
     "execution_count": 20,
     "metadata": {},
     "output_type": "execute_result"
    }
   ],
   "source": [
    "test_df['predicted_price'] = test_df['accommodates'].apply( predict_price )\n",
    "test_df.head()"
   ]
  },
  {
   "cell_type": "markdown",
   "id": "45951b0e-1afd-4bba-a288-7db1098d4fd2",
   "metadata": {},
   "source": [
    "## Metricas de error"
   ]
  },
  {
   "cell_type": "markdown",
   "id": "a445633b-c01e-4972-86af-74b33aed6da6",
   "metadata": {},
   "source": [
    "Ahora necesitamos cuantificar la calidad de las predicciones. <br>\n",
    "Esta _metrica de error_ cuantificará la inexacitud del modelo. <br> <br>\n",
    "\n",
    "Para este caso indicara la diferencia entre los valores predichos y los valores reales del precio."
   ]
  },
  {
   "cell_type": "markdown",
   "id": "63320361-e1fa-4048-8255-597a25d330a8",
   "metadata": {},
   "source": [
    "#### MAE (Mean Absolute Error)"
   ]
  },
  {
   "cell_type": "markdown",
   "id": "266ae9d2-dc0e-4ef8-9467-69014a09d4d6",
   "metadata": {},
   "source": [
    "Una metrica de error que nos ayudaria a ver un poco que tan bueno es nuestro modelo seria la del _error medio absoluto_.<br>\n",
    "La cual se define como: $$ MAE = \\displaystyle\\frac{1}{n}\\sum\\limits_{i=1}^n|(actual_1 - predict_1)| + ... + |(actual_n - predict_n)|$$"
   ]
  },
  {
   "cell_type": "code",
   "execution_count": 22,
   "id": "e9a6215a-4133-4782-ae35-412d600e3170",
   "metadata": {},
   "outputs": [
    {
     "name": "stdout",
     "output_type": "stream",
     "text": [
      "El valor del MAE es: 58.60794844253491\n"
     ]
    }
   ],
   "source": [
    "test_df['error'] = np.abs( test_df['price'] - test_df['predicted_price'] )\n",
    "mae = test_df['error'].mean()\n",
    "print(f\"El valor del MAE es: {mae}\")"
   ]
  },
  {
   "cell_type": "markdown",
   "id": "471ef583-d63f-49a6-95c7-6cf5779db934",
   "metadata": {},
   "source": [
    "#### MSE (Mean Square Error)"
   ]
  },
  {
   "cell_type": "markdown",
   "id": "2f287648-56d6-4704-9db4-78a17d0726b0",
   "metadata": {},
   "source": [
    "El error medio al cuadrado (MSE) aclara la diferencia entre los valores predichos y los reales. <br>\n",
    "Por ejemplo: una prediccion que se desvia en 100 dolares que tendra un error de 10,000 es 100 veces mayor que una prediccion <br>\n",
    "que se desvia solo 10 dolares que tendra un error de 100."
   ]
  },
  {
   "cell_type": "markdown",
   "id": "3d035a11-d6f9-41d8-a7a4-e0114f3c7358",
   "metadata": {},
   "source": [
    "El MSE esta definido por la siguiente ecuacion: $$ MSE = \\frac{1}{n}\\sum\\limits_{k=1}^n(actual_1 - predicted_1)^2 + ... + (actual_n - predicted_n)^2 $$\n",
    "\n",
    "Dode $n$ representa el numero de filas del conjunto de prueba."
   ]
  },
  {
   "cell_type": "code",
   "execution_count": null,
   "id": "b73275f2-2c5a-4ffd-80a4-dcb4d0c3671b",
   "metadata": {},
   "outputs": [],
   "source": [
    "test_df['squared_error'] = ( test_df['price'] - test_df['predicted_price'] )**(2)\n",
    "mse = test_df['squared_error'].mean()\n",
    "print(f\"El valor del MSE es: {}\")"
   ]
  }
 ],
 "metadata": {
  "kernelspec": {
   "display_name": "Python 3 (ipykernel)",
   "language": "python",
   "name": "python3"
  },
  "language_info": {
   "codemirror_mode": {
    "name": "ipython",
    "version": 3
   },
   "file_extension": ".py",
   "mimetype": "text/x-python",
   "name": "python",
   "nbconvert_exporter": "python",
   "pygments_lexer": "ipython3",
   "version": "3.11.5"
  }
 },
 "nbformat": 4,
 "nbformat_minor": 5
}
