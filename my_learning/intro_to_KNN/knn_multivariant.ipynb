{
 "cells": [
  {
   "cell_type": "markdown",
   "id": "5fbede41-6a49-459f-95bc-90feb2d08300",
   "metadata": {},
   "source": [
    "# Multivariante del método K-Nearest Neighbors"
   ]
  },
  {
   "cell_type": "markdown",
   "id": "050677eb-2dcf-4821-a6f8-baf23edc0834",
   "metadata": {},
   "source": [
    "Hasta ahora exploramos como usar un modelo de ML, el KNN simple que uso solo una caracteristica para las predicciones. Si bien esto ayudo a familiarizarse con los conceptos basicos del ML, esta claro que usar una sola caracteristica no refleja la realidad.<br>\n",
    "\n",
    "Hay 2 formas en las que podemos retocar este modelo para tratar de mejorar la precision (mejorar el RMSE):<br>\n",
    "- Incrementar el numero de atributos (**caracteristicas**) que el modelo usa para calcular similitudes cuando ranque los vecinos mas cercanos.\n",
    "- Incrementar **k**, el numero de vecinos cercanos que el modelo usa."
   ]
  },
  {
   "cell_type": "markdown",
   "id": "82e6e564-3cae-44cf-b8b7-8832211dfae0",
   "metadata": {},
   "source": [
    "### Eliminacion de caracteristicas no utiles y _**Normalizacion**_ de los datos."
   ]
  },
  {
   "cell_type": "markdown",
   "id": "b27323a0-d55c-440a-8cc4-4f85d16704cf",
   "metadata": {},
   "source": [
    "Al seleccionar mas atributos, tenemos que tener cuidado con las columnas que no funcionan bien con la ecuacion de distancia:\n",
    "- Valores no numericos (ejemplo, ciudad o estado)\n",
    "    - La ecuacion de distancia euclidiana espera valores numericos.\n",
    "- Valores perdidos\n",
    "    - La ecuacion de la distancia euclideana espera un valor por cada observacion y atributo.\n",
    "- Valores no ordinales (por ejemplo, latitud o longitud)\n",
    "    - La clasifiacion por distancia euclideana no tiene sentido si todos los valores no son ordinales. "
   ]
  },
  {
   "cell_type": "code",
   "execution_count": 22,
   "id": "9550eab4-7c2d-450d-b3d6-87fec3e7f7a4",
   "metadata": {},
   "outputs": [
    {
     "data": {
      "text/html": [
       "<div>\n",
       "<style scoped>\n",
       "    .dataframe tbody tr th:only-of-type {\n",
       "        vertical-align: middle;\n",
       "    }\n",
       "\n",
       "    .dataframe tbody tr th {\n",
       "        vertical-align: top;\n",
       "    }\n",
       "\n",
       "    .dataframe thead th {\n",
       "        text-align: right;\n",
       "    }\n",
       "</style>\n",
       "<table border=\"1\" class=\"dataframe\">\n",
       "  <thead>\n",
       "    <tr style=\"text-align: right;\">\n",
       "      <th></th>\n",
       "      <th>host_response_rate</th>\n",
       "      <th>host_acceptance_rate</th>\n",
       "      <th>host_listings_count</th>\n",
       "      <th>accommodates</th>\n",
       "      <th>room_type</th>\n",
       "      <th>bedrooms</th>\n",
       "      <th>bathrooms</th>\n",
       "      <th>beds</th>\n",
       "      <th>price</th>\n",
       "      <th>cleaning_fee</th>\n",
       "      <th>security_deposit</th>\n",
       "      <th>minimum_nights</th>\n",
       "      <th>maximum_nights</th>\n",
       "      <th>number_of_reviews</th>\n",
       "      <th>latitude</th>\n",
       "      <th>longitude</th>\n",
       "      <th>city</th>\n",
       "      <th>zipcode</th>\n",
       "      <th>state</th>\n",
       "    </tr>\n",
       "  </thead>\n",
       "  <tbody>\n",
       "    <tr>\n",
       "      <th>2021</th>\n",
       "      <td>100%</td>\n",
       "      <td>100%</td>\n",
       "      <td>1</td>\n",
       "      <td>4</td>\n",
       "      <td>Entire home/apt</td>\n",
       "      <td>1.0</td>\n",
       "      <td>1.0</td>\n",
       "      <td>2.0</td>\n",
       "      <td>130.0</td>\n",
       "      <td>$45.00</td>\n",
       "      <td>NaN</td>\n",
       "      <td>2</td>\n",
       "      <td>1125</td>\n",
       "      <td>90</td>\n",
       "      <td>38.893268</td>\n",
       "      <td>-76.990191</td>\n",
       "      <td>Washington, D.C.</td>\n",
       "      <td>20002</td>\n",
       "      <td>DC</td>\n",
       "    </tr>\n",
       "    <tr>\n",
       "      <th>768</th>\n",
       "      <td>88%</td>\n",
       "      <td>88%</td>\n",
       "      <td>1</td>\n",
       "      <td>2</td>\n",
       "      <td>Private room</td>\n",
       "      <td>1.0</td>\n",
       "      <td>1.0</td>\n",
       "      <td>1.0</td>\n",
       "      <td>55.0</td>\n",
       "      <td>NaN</td>\n",
       "      <td>NaN</td>\n",
       "      <td>3</td>\n",
       "      <td>1125</td>\n",
       "      <td>4</td>\n",
       "      <td>38.906128</td>\n",
       "      <td>-76.996538</td>\n",
       "      <td>Washington</td>\n",
       "      <td>20002</td>\n",
       "      <td>DC</td>\n",
       "    </tr>\n",
       "    <tr>\n",
       "      <th>1140</th>\n",
       "      <td>100%</td>\n",
       "      <td>80%</td>\n",
       "      <td>4</td>\n",
       "      <td>2</td>\n",
       "      <td>Entire home/apt</td>\n",
       "      <td>1.0</td>\n",
       "      <td>1.0</td>\n",
       "      <td>1.0</td>\n",
       "      <td>215.0</td>\n",
       "      <td>$130.00</td>\n",
       "      <td>$500.00</td>\n",
       "      <td>2</td>\n",
       "      <td>180</td>\n",
       "      <td>65</td>\n",
       "      <td>38.911465</td>\n",
       "      <td>-77.036361</td>\n",
       "      <td>Washington</td>\n",
       "      <td>20005</td>\n",
       "      <td>DC</td>\n",
       "    </tr>\n",
       "    <tr>\n",
       "      <th>2760</th>\n",
       "      <td>NaN</td>\n",
       "      <td>NaN</td>\n",
       "      <td>1</td>\n",
       "      <td>2</td>\n",
       "      <td>Entire home/apt</td>\n",
       "      <td>2.0</td>\n",
       "      <td>1.0</td>\n",
       "      <td>2.0</td>\n",
       "      <td>500.0</td>\n",
       "      <td>NaN</td>\n",
       "      <td>NaN</td>\n",
       "      <td>1</td>\n",
       "      <td>1125</td>\n",
       "      <td>0</td>\n",
       "      <td>38.934429</td>\n",
       "      <td>-77.024223</td>\n",
       "      <td>Washington</td>\n",
       "      <td>20010</td>\n",
       "      <td>DC</td>\n",
       "    </tr>\n",
       "    <tr>\n",
       "      <th>1088</th>\n",
       "      <td>NaN</td>\n",
       "      <td>NaN</td>\n",
       "      <td>1</td>\n",
       "      <td>1</td>\n",
       "      <td>Shared room</td>\n",
       "      <td>1.0</td>\n",
       "      <td>1.0</td>\n",
       "      <td>1.0</td>\n",
       "      <td>100.0</td>\n",
       "      <td>NaN</td>\n",
       "      <td>NaN</td>\n",
       "      <td>2</td>\n",
       "      <td>1125</td>\n",
       "      <td>0</td>\n",
       "      <td>38.912634</td>\n",
       "      <td>-77.043345</td>\n",
       "      <td>Washington</td>\n",
       "      <td>20009</td>\n",
       "      <td>DC</td>\n",
       "    </tr>\n",
       "  </tbody>\n",
       "</table>\n",
       "</div>"
      ],
      "text/plain": [
       "     host_response_rate host_acceptance_rate  host_listings_count  \\\n",
       "2021               100%                 100%                    1   \n",
       "768                 88%                  88%                    1   \n",
       "1140               100%                  80%                    4   \n",
       "2760                NaN                  NaN                    1   \n",
       "1088                NaN                  NaN                    1   \n",
       "\n",
       "      accommodates        room_type  bedrooms  bathrooms  beds  price  \\\n",
       "2021             4  Entire home/apt       1.0        1.0   2.0  130.0   \n",
       "768              2     Private room       1.0        1.0   1.0   55.0   \n",
       "1140             2  Entire home/apt       1.0        1.0   1.0  215.0   \n",
       "2760             2  Entire home/apt       2.0        1.0   2.0  500.0   \n",
       "1088             1      Shared room       1.0        1.0   1.0  100.0   \n",
       "\n",
       "     cleaning_fee security_deposit  minimum_nights  maximum_nights  \\\n",
       "2021       $45.00              NaN               2            1125   \n",
       "768           NaN              NaN               3            1125   \n",
       "1140      $130.00          $500.00               2             180   \n",
       "2760          NaN              NaN               1            1125   \n",
       "1088          NaN              NaN               2            1125   \n",
       "\n",
       "      number_of_reviews   latitude  longitude              city zipcode state  \n",
       "2021                 90  38.893268 -76.990191  Washington, D.C.   20002    DC  \n",
       "768                   4  38.906128 -76.996538        Washington   20002    DC  \n",
       "1140                 65  38.911465 -77.036361        Washington   20005    DC  \n",
       "2760                  0  38.934429 -77.024223        Washington   20010    DC  \n",
       "1088                  0  38.912634 -77.043345        Washington   20009    DC  "
      ]
     },
     "execution_count": 22,
     "metadata": {},
     "output_type": "execute_result"
    }
   ],
   "source": [
    "import pandas as pd\n",
    "import numpy as np\n",
    "\n",
    "# Leyendo datos y acomodandolos aleatoreamente\n",
    "dc_listings = pd.read_csv('dc_airbnb.csv')\n",
    "dc_listings = dc_listings.loc[ np.random.permutation(len(dc_listings)) ]\n",
    "\n",
    "# Convirtiendo la columna price a float (limpiando datos)\n",
    "stripped_commas = dc_listings['price'].str.replace(',', '')\n",
    "stripped_dollars = stripped_commas.str.replace('$', '')\n",
    "dc_listings['price'] = stripped_dollars.astype('float')\n",
    "\n",
    "dc_listings.head()"
   ]
  },
  {
   "cell_type": "code",
   "execution_count": 23,
   "id": "8adc8f2d-8ad3-4e13-a1fe-d5f7d100294d",
   "metadata": {},
   "outputs": [
    {
     "name": "stdout",
     "output_type": "stream",
     "text": [
      "<class 'pandas.core.frame.DataFrame'>\n",
      "Index: 3723 entries, 2021 to 2298\n",
      "Data columns (total 19 columns):\n",
      " #   Column                Non-Null Count  Dtype  \n",
      "---  ------                --------------  -----  \n",
      " 0   host_response_rate    3289 non-null   object \n",
      " 1   host_acceptance_rate  3109 non-null   object \n",
      " 2   host_listings_count   3723 non-null   int64  \n",
      " 3   accommodates          3723 non-null   int64  \n",
      " 4   room_type             3723 non-null   object \n",
      " 5   bedrooms              3702 non-null   float64\n",
      " 6   bathrooms             3696 non-null   float64\n",
      " 7   beds                  3712 non-null   float64\n",
      " 8   price                 3723 non-null   float64\n",
      " 9   cleaning_fee          2335 non-null   object \n",
      " 10  security_deposit      1426 non-null   object \n",
      " 11  minimum_nights        3723 non-null   int64  \n",
      " 12  maximum_nights        3723 non-null   int64  \n",
      " 13  number_of_reviews     3723 non-null   int64  \n",
      " 14  latitude              3723 non-null   float64\n",
      " 15  longitude             3723 non-null   float64\n",
      " 16  city                  3723 non-null   object \n",
      " 17  zipcode               3714 non-null   object \n",
      " 18  state                 3723 non-null   object \n",
      "dtypes: float64(6), int64(5), object(8)\n",
      "memory usage: 581.7+ KB\n",
      "None\n"
     ]
    }
   ],
   "source": [
    "# Mostrando informacion general de los datos. \n",
    "# Como: columnas, cuantos valores no nulos contiene cada columna y el tipo de dato\n",
    "print(dc_listings.info())"
   ]
  },
  {
   "cell_type": "markdown",
   "id": "bf069150-2d47-4031-b1d3-556764a8f978",
   "metadata": {},
   "source": [
    "Como podemos observar: \n",
    "- Hay columnas que contienen valores _**NO númericos**_:\n",
    "    - _room_type_\n",
    "    - _city_\n",
    "    - _state_\n",
    "- Y columnas con valores númericos pero _**NO ordinales**_:\n",
    "    - _latitude_\n",
    "    - _longitude_\n",
    "    - _zipcode_\n",
    "\n",
    "\n",
    "A su vez tambien evitaremos cualquier columna que no describa directamente el espacio vital:\n",
    "- _host_response_rate_\n",
    "- _host_acceptance_rate_\n",
    "- _host_listings_count_\n"
   ]
  },
  {
   "cell_type": "code",
   "execution_count": 24,
   "id": "42871bd5-237b-45e9-8004-4e30d9584f85",
   "metadata": {},
   "outputs": [
    {
     "data": {
      "text/plain": [
       "accommodates            0\n",
       "bedrooms               21\n",
       "bathrooms              27\n",
       "beds                   11\n",
       "price                   0\n",
       "cleaning_fee         1388\n",
       "security_deposit     2297\n",
       "minimum_nights          0\n",
       "maximum_nights          0\n",
       "number_of_reviews       0\n",
       "dtype: int64"
      ]
     },
     "execution_count": 24,
     "metadata": {},
     "output_type": "execute_result"
    }
   ],
   "source": [
    "# Eliminando columnas no utiles.\n",
    "drop_columns = [ 'room_type', 'city', 'state', 'latitude', 'longitude', 'zipcode', 'host_response_rate', 'host_acceptance_rate', 'host_listings_count' ]\n",
    "dc_listings = dc_listings.drop(drop_columns, axis=1)\n",
    "dc_listings.isnull().sum()"
   ]
  },
  {
   "cell_type": "markdown",
   "id": "ef0765ce-7932-47b4-92b8-f910d67d2c89",
   "metadata": {},
   "source": [
    "De las columnas restantes, hay algunas que tienen pocos valores nulos:\n",
    "- _bedrooms_\n",
    "- _bathrooms_\n",
    "- _beds_\n",
    "\n",
    "De las cuales podemos eliminar esas filas sin perder mucha informacion.\n",
    "\n",
    "Pero tambien hay 2 columnas con un gran numero de valores perdidos:\n",
    "- _cleaning_fee_\n",
    "- _security_deposit_\n",
    "\n",
    "En este caso no podemos eliminar simplemente las filas, ya que perderiamos mucha informacion. Por ello, vamos a eliminar <br>\n",
    "por completo esas dos columas."
   ]
  },
  {
   "cell_type": "code",
   "execution_count": 25,
   "id": "9fda388e-632a-4708-8c9d-2b0f667cc86a",
   "metadata": {},
   "outputs": [
    {
     "data": {
      "text/plain": [
       "accommodates         0\n",
       "bedrooms             0\n",
       "bathrooms            0\n",
       "beds                 0\n",
       "price                0\n",
       "minimum_nights       0\n",
       "maximum_nights       0\n",
       "number_of_reviews    0\n",
       "dtype: int64"
      ]
     },
     "execution_count": 25,
     "metadata": {},
     "output_type": "execute_result"
    }
   ],
   "source": [
    "# Eliminando columnas con un gran numero de valores perdidos\n",
    "dc_listings = dc_listings.drop([ 'cleaning_fee', 'security_deposit' ], axis=1)\n",
    "\n",
    "# Eliminando filas con valores nulos\n",
    "dc_listings = dc_listings.dropna(axis=0)\n",
    "\n",
    "dc_listings.isnull().sum()"
   ]
  },
  {
   "cell_type": "markdown",
   "id": "46769e57-9e73-48b2-aaed-be410ec11737",
   "metadata": {},
   "source": [
    "#### Normalizacion de Columnas"
   ]
  },
  {
   "cell_type": "code",
   "execution_count": 26,
   "id": "e160c9f8-135c-4d61-abb3-ba38efb04288",
   "metadata": {},
   "outputs": [
    {
     "data": {
      "text/html": [
       "<div>\n",
       "<style scoped>\n",
       "    .dataframe tbody tr th:only-of-type {\n",
       "        vertical-align: middle;\n",
       "    }\n",
       "\n",
       "    .dataframe tbody tr th {\n",
       "        vertical-align: top;\n",
       "    }\n",
       "\n",
       "    .dataframe thead th {\n",
       "        text-align: right;\n",
       "    }\n",
       "</style>\n",
       "<table border=\"1\" class=\"dataframe\">\n",
       "  <thead>\n",
       "    <tr style=\"text-align: right;\">\n",
       "      <th></th>\n",
       "      <th>accommodates</th>\n",
       "      <th>bedrooms</th>\n",
       "      <th>bathrooms</th>\n",
       "      <th>beds</th>\n",
       "      <th>price</th>\n",
       "      <th>minimum_nights</th>\n",
       "      <th>maximum_nights</th>\n",
       "      <th>number_of_reviews</th>\n",
       "    </tr>\n",
       "  </thead>\n",
       "  <tbody>\n",
       "    <tr>\n",
       "      <th>2021</th>\n",
       "      <td>4</td>\n",
       "      <td>1.0</td>\n",
       "      <td>1.0</td>\n",
       "      <td>2.0</td>\n",
       "      <td>130.0</td>\n",
       "      <td>2</td>\n",
       "      <td>1125</td>\n",
       "      <td>90</td>\n",
       "    </tr>\n",
       "    <tr>\n",
       "      <th>768</th>\n",
       "      <td>2</td>\n",
       "      <td>1.0</td>\n",
       "      <td>1.0</td>\n",
       "      <td>1.0</td>\n",
       "      <td>55.0</td>\n",
       "      <td>3</td>\n",
       "      <td>1125</td>\n",
       "      <td>4</td>\n",
       "    </tr>\n",
       "    <tr>\n",
       "      <th>1140</th>\n",
       "      <td>2</td>\n",
       "      <td>1.0</td>\n",
       "      <td>1.0</td>\n",
       "      <td>1.0</td>\n",
       "      <td>215.0</td>\n",
       "      <td>2</td>\n",
       "      <td>180</td>\n",
       "      <td>65</td>\n",
       "    </tr>\n",
       "    <tr>\n",
       "      <th>2760</th>\n",
       "      <td>2</td>\n",
       "      <td>2.0</td>\n",
       "      <td>1.0</td>\n",
       "      <td>2.0</td>\n",
       "      <td>500.0</td>\n",
       "      <td>1</td>\n",
       "      <td>1125</td>\n",
       "      <td>0</td>\n",
       "    </tr>\n",
       "    <tr>\n",
       "      <th>1088</th>\n",
       "      <td>1</td>\n",
       "      <td>1.0</td>\n",
       "      <td>1.0</td>\n",
       "      <td>1.0</td>\n",
       "      <td>100.0</td>\n",
       "      <td>2</td>\n",
       "      <td>1125</td>\n",
       "      <td>0</td>\n",
       "    </tr>\n",
       "  </tbody>\n",
       "</table>\n",
       "</div>"
      ],
      "text/plain": [
       "      accommodates  bedrooms  bathrooms  beds  price  minimum_nights  \\\n",
       "2021             4       1.0        1.0   2.0  130.0               2   \n",
       "768              2       1.0        1.0   1.0   55.0               3   \n",
       "1140             2       1.0        1.0   1.0  215.0               2   \n",
       "2760             2       2.0        1.0   2.0  500.0               1   \n",
       "1088             1       1.0        1.0   1.0  100.0               2   \n",
       "\n",
       "      maximum_nights  number_of_reviews  \n",
       "2021            1125                 90  \n",
       "768             1125                  4  \n",
       "1140             180                 65  \n",
       "2760            1125                  0  \n",
       "1088            1125                  0  "
      ]
     },
     "execution_count": 26,
     "metadata": {},
     "output_type": "execute_result"
    }
   ],
   "source": [
    "dc_listings.head()"
   ]
  },
  {
   "cell_type": "markdown",
   "id": "5583cb70-e987-46f2-809d-ed173d18a93e",
   "metadata": {},
   "source": [
    "Como se puede observar, hay columnas con valores con mucha varianza, valores desmesurados. Y debido a como se calcula la _distancia euclideana_ <br>\n",
    "podria ocasionar errores de distancia. \n",
    "Para evitar que una sola columna tenga demasiado impacto en la distancia, podemos _**normalizar**_ todas las columnas para que tengan una media de 0 <br>\n",
    "y una desviacion estandar de 1.\n",
    "\n",
    "_La **normalización** de los valores de cada columna preserva la distribucion de los valores de cada columana a su vez que alinea las escalas._\n",
    "\n",
    "Esta es la formúla matemática que describe la transformacion que debe aplicarse a todos los valores de la columna: $$ Z_{i} = \\frac{X_{i} - \\mu}{\\sigma} $$\n",
    "\n",
    "Donde:\n",
    "- $X_{i}$  es in valor de una columna especifica.\n",
    "- $\\mu$  es la media de todos los valores de la columna.\n",
    "- $\\sigma$  es a desviación estandar de todos los valores de la columna."
   ]
  },
  {
   "cell_type": "code",
   "execution_count": 27,
   "id": "52e05dcb-b476-43d2-9262-b14fbca61fe7",
   "metadata": {},
   "outputs": [
    {
     "name": "stdout",
     "output_type": "stream",
     "text": [
      "2021   -0.016573\n",
      "768    -0.016573\n",
      "1140   -0.016599\n",
      "Name: maximum_nights, dtype: float64\n",
      "2021   -0.016573\n",
      "768    -0.016573\n",
      "1140   -0.016599\n",
      "Name: maximum_nights, dtype: float64\n"
     ]
    }
   ],
   "source": [
    "# Probando la normalizacion para entender la teoria.\n",
    "first_transform = dc_listings['maximum_nights'] - dc_listings['maximum_nights'].mean()\n",
    "normalized_column = first_transform / first_transform.std()\n",
    "print(normalized_column.head(3))\n",
    "\n",
    "# O de otra manera\n",
    "normalized_column = first_transform / dc_listings['maximum_nights'].std()\n",
    "print(normalized_column.head(3))"
   ]
  },
  {
   "cell_type": "markdown",
   "id": "0dc1ea72-024d-4065-a858-dd1532bdedde",
   "metadata": {},
   "source": [
    "##### Aplicando esta trandormacion a todas las columnas de un DataFrame\n",
    "Para ello se puede usar los metodos **mean()** y **std()** del DataFrame. Al utilizar estos métodos, se utilizan las medias y las desviaciones estándar de las columnas apropiadas para cada valor del DataFrame."
   ]
  },
  {
   "cell_type": "code",
   "execution_count": 28,
   "id": "c1b5695b-6f4f-4e34-9d9b-5f6a1c0d14b9",
   "metadata": {},
   "outputs": [
    {
     "data": {
      "text/html": [
       "<div>\n",
       "<style scoped>\n",
       "    .dataframe tbody tr th:only-of-type {\n",
       "        vertical-align: middle;\n",
       "    }\n",
       "\n",
       "    .dataframe tbody tr th {\n",
       "        vertical-align: top;\n",
       "    }\n",
       "\n",
       "    .dataframe thead th {\n",
       "        text-align: right;\n",
       "    }\n",
       "</style>\n",
       "<table border=\"1\" class=\"dataframe\">\n",
       "  <thead>\n",
       "    <tr style=\"text-align: right;\">\n",
       "      <th></th>\n",
       "      <th>accommodates</th>\n",
       "      <th>bedrooms</th>\n",
       "      <th>bathrooms</th>\n",
       "      <th>beds</th>\n",
       "      <th>price</th>\n",
       "      <th>minimum_nights</th>\n",
       "      <th>maximum_nights</th>\n",
       "      <th>number_of_reviews</th>\n",
       "    </tr>\n",
       "  </thead>\n",
       "  <tbody>\n",
       "    <tr>\n",
       "      <th>2021</th>\n",
       "      <td>0.401366</td>\n",
       "      <td>-0.249467</td>\n",
       "      <td>-0.439151</td>\n",
       "      <td>0.297345</td>\n",
       "      <td>130.0</td>\n",
       "      <td>-0.065038</td>\n",
       "      <td>-0.016573</td>\n",
       "      <td>2.561629</td>\n",
       "    </tr>\n",
       "    <tr>\n",
       "      <th>768</th>\n",
       "      <td>-0.596544</td>\n",
       "      <td>-0.249467</td>\n",
       "      <td>-0.439151</td>\n",
       "      <td>-0.546858</td>\n",
       "      <td>55.0</td>\n",
       "      <td>0.211298</td>\n",
       "      <td>-0.016573</td>\n",
       "      <td>-0.379894</td>\n",
       "    </tr>\n",
       "    <tr>\n",
       "      <th>1140</th>\n",
       "      <td>-0.596544</td>\n",
       "      <td>-0.249467</td>\n",
       "      <td>-0.439151</td>\n",
       "      <td>-0.546858</td>\n",
       "      <td>215.0</td>\n",
       "      <td>-0.065038</td>\n",
       "      <td>-0.016599</td>\n",
       "      <td>1.706535</td>\n",
       "    </tr>\n",
       "  </tbody>\n",
       "</table>\n",
       "</div>"
      ],
      "text/plain": [
       "      accommodates  bedrooms  bathrooms      beds  price  minimum_nights  \\\n",
       "2021      0.401366 -0.249467  -0.439151  0.297345  130.0       -0.065038   \n",
       "768      -0.596544 -0.249467  -0.439151 -0.546858   55.0        0.211298   \n",
       "1140     -0.596544 -0.249467  -0.439151 -0.546858  215.0       -0.065038   \n",
       "\n",
       "      maximum_nights  number_of_reviews  \n",
       "2021       -0.016573           2.561629  \n",
       "768        -0.016573          -0.379894  \n",
       "1140       -0.016599           1.706535  "
      ]
     },
     "execution_count": 28,
     "metadata": {},
     "output_type": "execute_result"
    }
   ],
   "source": [
    "normalized_listings = ( dc_listings - dc_listings.mean() ) / (dc_listings.std())\n",
    "normalized_listings['price'] =  dc_listings['price']\n",
    "normalized_listings.head(3)"
   ]
  },
  {
   "cell_type": "markdown",
   "id": "6e254119-eeff-424d-ac48-6b5bea51bb1a",
   "metadata": {},
   "source": [
    "### Calcúlo de la Distancia Euclideana para el _**Caso Multivariante**_"
   ]
  },
  {
   "cell_type": "markdown",
   "id": "53570501-3038-4736-84c4-5df739e643b4",
   "metadata": {},
   "source": [
    "Anteriormente utilizamos dos modelos univariantes de KNN, utilizando el atributo _**accomodates**_ para el primero y _**bathrooms**_ para el segundo. <br>\n",
    "Ahora entrenaremos un modelo con ambos atributos. Recordando que la ecuacion de la _distancia euclideana_ esta definida como: $$ d = \\sqrt{(q_{1}-p_{1})^{2} + (q_{2}-p_{2})^{2} + ... + (q_{n}-p_{n})^{2}} $$\n",
    "Y bien para hacer el calculo en Python, ahora nos apoyaremos del modulo _**scipy**_, utilizando la funcion _**distance.euclidean()**_:"
   ]
  },
  {
   "cell_type": "code",
   "execution_count": 29,
   "id": "fa703010-24e6-4efd-8942-2d5d955f3d93",
   "metadata": {},
   "outputs": [],
   "source": [
    "from scipy.spatial import distance\n",
    "\n",
    "first_listing = [ -0.596544, -0.439151 ]\n",
    "second_listing = [ -0.596544, -0.412923 ]\n",
    "\n",
    "dist = distance.euclidean( first_listing, second_listing )"
   ]
  },
  {
   "cell_type": "markdown",
   "id": "c16b6c76-0447-4c9e-9806-5c00e1161d5c",
   "metadata": {},
   "source": [
    "La funcion euclidean(), espera:\n",
    "- Dos vectores, los cuales se deben representar con un objeto tipo _lista_ (lista de Python, array de NumPy o serie de Pandas).\n",
    "- Ambos deben ser unidimensionales y tener el mismo numero de elementos."
   ]
  },
  {
   "cell_type": "code",
   "execution_count": 30,
   "id": "29601e52-09d4-4262-ad24-987b9df83a49",
   "metadata": {},
   "outputs": [
    {
     "name": "stdout",
     "output_type": "stream",
     "text": [
      "La distancia entre el primer elemento y el quinto de nuestro conjunto de datos es: 1.4968643297650204\n"
     ]
    }
   ],
   "source": [
    "from scipy.spatial import distance\n",
    "first_listing = normalized_listings.iloc[0][ ['accommodates', 'bathrooms'] ]\n",
    "fifth_listing = normalized_listings.iloc[4][ ['accommodates', 'bathrooms'] ]\n",
    "\n",
    "first_fifth_distance = distance.euclidean( first_listing, fifth_listing )\n",
    "print(f'La distancia entre el primer elemento y el quinto de nuestro conjunto de datos es: {first_fifth_distance}')"
   ]
  },
  {
   "cell_type": "markdown",
   "id": "ae8a3293-abd9-4fdd-9613-d54d1996a05a",
   "metadata": {},
   "source": [
    "### Introduccion a Scikit-learn"
   ]
  },
  {
   "cell_type": "markdown",
   "id": "10ebbdc3-c8e7-4bd2-af0a-6fcfbcf55255",
   "metadata": {},
   "source": [
    "Hasta ahora hemos construido el modelo de KNN desde cero. Pero para ser mas productivo e iterar mas rapido, podemos hacer uso <br>\n",
    "de la biblioteca _sickit-learn_, la cual contiene funciones para todos los principales algoritmos de ML y un flujo de trabajo simple <br>\n",
    "y unificado.<br>\n",
    "\n",
    "El flujo de trabajo de scikit-learn consta de 4 pasos pricipales:\n",
    "- Instalar el modelo de aprendizaje automatico especifico que se desea.\n",
    "- Ajustar el modelo a los datos de entrenamiento.\n",
    "- Utilizar el modelo para hacer predicciones.\n",
    "- Evaluar la precision de las predicciones."
   ]
  },
  {
   "cell_type": "markdown",
   "id": "c6e8db1a-5173-48fe-8ce8-47eb6758a4de",
   "metadata": {},
   "source": [
    "_**IMPORTANTE**_: <br>\n",
    "Cualquier modelo que nos ayude apredecir valores numericos, como el precio de venta en nuestro caso, se conoce como **modelo de regresion**. <br>\n",
    "La otra clase principal de modelos de ML supervisado se denomina de **clasificacion**, en la que intentamos predecir una etiqueta a partir <br>\n",
    "de un conjunto fijo de etiquetas (por ejemplo, el tipo de sangre o el sexo)."
   ]
  },
  {
   "cell_type": "code",
   "execution_count": 31,
   "id": "0c317a16-0bc8-417e-917d-56a4fb8cd90e",
   "metadata": {},
   "outputs": [],
   "source": [
    "from sklearn.neighbors import KNeighborsRegressor\n",
    "# Algunos de los hiperparametros que le podemos configurar son: algorithm, n_neighbors, p, entre otros.\n",
    "knn = KNeighborsRegressor(algorithm='brute') # Regressor hace referencia a que es un modelo de la clase regresion."
   ]
  },
  {
   "cell_type": "markdown",
   "id": "449c4d0d-4c11-4855-aa24-ce50bc4aa59e",
   "metadata": {},
   "source": [
    "#### Ajuste de Modelo y Realizacion de predicciones\n",
    "\n",
    "Ahora podemos ajustar (fit_method) el modelo. Para ello se utiliza el metodo **fit(X,y)** donde: \n",
    "- X: Es un objeto tipo matriz, que contiene las columnas de caracteristicas que queremos utilizar del conjunto de entrenamiento.\n",
    "- y: Objeto tipo lista, que contiene los valores objetivo correctos."
   ]
  },
  {
   "cell_type": "code",
   "execution_count": 32,
   "id": "27adbcda-8e0f-45e1-bc1b-2a388ffd3dfc",
   "metadata": {},
   "outputs": [
    {
     "data": {
      "text/html": [
       "<style>#sk-container-id-2 {color: black;}#sk-container-id-2 pre{padding: 0;}#sk-container-id-2 div.sk-toggleable {background-color: white;}#sk-container-id-2 label.sk-toggleable__label {cursor: pointer;display: block;width: 100%;margin-bottom: 0;padding: 0.3em;box-sizing: border-box;text-align: center;}#sk-container-id-2 label.sk-toggleable__label-arrow:before {content: \"▸\";float: left;margin-right: 0.25em;color: #696969;}#sk-container-id-2 label.sk-toggleable__label-arrow:hover:before {color: black;}#sk-container-id-2 div.sk-estimator:hover label.sk-toggleable__label-arrow:before {color: black;}#sk-container-id-2 div.sk-toggleable__content {max-height: 0;max-width: 0;overflow: hidden;text-align: left;background-color: #f0f8ff;}#sk-container-id-2 div.sk-toggleable__content pre {margin: 0.2em;color: black;border-radius: 0.25em;background-color: #f0f8ff;}#sk-container-id-2 input.sk-toggleable__control:checked~div.sk-toggleable__content {max-height: 200px;max-width: 100%;overflow: auto;}#sk-container-id-2 input.sk-toggleable__control:checked~label.sk-toggleable__label-arrow:before {content: \"▾\";}#sk-container-id-2 div.sk-estimator input.sk-toggleable__control:checked~label.sk-toggleable__label {background-color: #d4ebff;}#sk-container-id-2 div.sk-label input.sk-toggleable__control:checked~label.sk-toggleable__label {background-color: #d4ebff;}#sk-container-id-2 input.sk-hidden--visually {border: 0;clip: rect(1px 1px 1px 1px);clip: rect(1px, 1px, 1px, 1px);height: 1px;margin: -1px;overflow: hidden;padding: 0;position: absolute;width: 1px;}#sk-container-id-2 div.sk-estimator {font-family: monospace;background-color: #f0f8ff;border: 1px dotted black;border-radius: 0.25em;box-sizing: border-box;margin-bottom: 0.5em;}#sk-container-id-2 div.sk-estimator:hover {background-color: #d4ebff;}#sk-container-id-2 div.sk-parallel-item::after {content: \"\";width: 100%;border-bottom: 1px solid gray;flex-grow: 1;}#sk-container-id-2 div.sk-label:hover label.sk-toggleable__label {background-color: #d4ebff;}#sk-container-id-2 div.sk-serial::before {content: \"\";position: absolute;border-left: 1px solid gray;box-sizing: border-box;top: 0;bottom: 0;left: 50%;z-index: 0;}#sk-container-id-2 div.sk-serial {display: flex;flex-direction: column;align-items: center;background-color: white;padding-right: 0.2em;padding-left: 0.2em;position: relative;}#sk-container-id-2 div.sk-item {position: relative;z-index: 1;}#sk-container-id-2 div.sk-parallel {display: flex;align-items: stretch;justify-content: center;background-color: white;position: relative;}#sk-container-id-2 div.sk-item::before, #sk-container-id-2 div.sk-parallel-item::before {content: \"\";position: absolute;border-left: 1px solid gray;box-sizing: border-box;top: 0;bottom: 0;left: 50%;z-index: -1;}#sk-container-id-2 div.sk-parallel-item {display: flex;flex-direction: column;z-index: 1;position: relative;background-color: white;}#sk-container-id-2 div.sk-parallel-item:first-child::after {align-self: flex-end;width: 50%;}#sk-container-id-2 div.sk-parallel-item:last-child::after {align-self: flex-start;width: 50%;}#sk-container-id-2 div.sk-parallel-item:only-child::after {width: 0;}#sk-container-id-2 div.sk-dashed-wrapped {border: 1px dashed gray;margin: 0 0.4em 0.5em 0.4em;box-sizing: border-box;padding-bottom: 0.4em;background-color: white;}#sk-container-id-2 div.sk-label label {font-family: monospace;font-weight: bold;display: inline-block;line-height: 1.2em;}#sk-container-id-2 div.sk-label-container {text-align: center;}#sk-container-id-2 div.sk-container {/* jupyter's `normalize.less` sets `[hidden] { display: none; }` but bootstrap.min.css set `[hidden] { display: none !important; }` so we also need the `!important` here to be able to override the default hidden behavior on the sphinx rendered scikit-learn.org. See: https://github.com/scikit-learn/scikit-learn/issues/21755 */display: inline-block !important;position: relative;}#sk-container-id-2 div.sk-text-repr-fallback {display: none;}</style><div id=\"sk-container-id-2\" class=\"sk-top-container\"><div class=\"sk-text-repr-fallback\"><pre>KNeighborsRegressor(algorithm=&#x27;brute&#x27;)</pre><b>In a Jupyter environment, please rerun this cell to show the HTML representation or trust the notebook. <br />On GitHub, the HTML representation is unable to render, please try loading this page with nbviewer.org.</b></div><div class=\"sk-container\" hidden><div class=\"sk-item\"><div class=\"sk-estimator sk-toggleable\"><input class=\"sk-toggleable__control sk-hidden--visually\" id=\"sk-estimator-id-2\" type=\"checkbox\" checked><label for=\"sk-estimator-id-2\" class=\"sk-toggleable__label sk-toggleable__label-arrow\">KNeighborsRegressor</label><div class=\"sk-toggleable__content\"><pre>KNeighborsRegressor(algorithm=&#x27;brute&#x27;)</pre></div></div></div></div></div>"
      ],
      "text/plain": [
       "KNeighborsRegressor(algorithm='brute')"
      ]
     },
     "execution_count": 32,
     "metadata": {},
     "output_type": "execute_result"
    }
   ],
   "source": [
    "# Dividiendo los datos normalizados en datos de entrenamiento y prueba. \n",
    "train_df = normalized_listings.iloc[0:2792]\n",
    "test_df = normalized_listings.iloc[2792:]\n",
    "\n",
    "# Seleccionando las columnas de caracteristicas que se desean usar para 'ajustar' (entrenar) el modelo.\n",
    "train_features = train_df[[ 'accommodates', 'bathrooms' ]]\n",
    "train_target = train_df['price']\n",
    "\n",
    "# Ajustando modelo\n",
    "knn.fit(train_features, train_target)"
   ]
  },
  {
   "cell_type": "markdown",
   "id": "7ef68ce3-8292-44dd-be87-a0af7500f50b",
   "metadata": {},
   "source": [
    "**NOTA**: Los datos que se le pasen al metodo fit, no deben contener valores nulos."
   ]
  },
  {
   "cell_type": "markdown",
   "id": "62688a86-4bdc-4b14-80b1-08b9205c280f",
   "metadata": {},
   "source": [
    "#### Haciendo predicciones\n",
    "\n",
    "Ahora podemos usar el metodo _**predict()**_ para hacer las predicciones, este metodo solo tiene un parametro requerido:\n",
    "- Objeto tipo matriz, que contiene las columnas caracteristicas del conjunto de datos sobre el que queremos hacer predicciones.\n",
    "\n",
    "**IMPORTANTE**: El numero de columnas de carateristicas que se utiliza durante el entrenamiento y prueba debe coincidir o scikit-learn devolvera un error."
   ]
  },
  {
   "cell_type": "code",
   "execution_count": 33,
   "id": "c4ce22fa-5370-428b-8609-a36901776705",
   "metadata": {},
   "outputs": [
    {
     "name": "stdout",
     "output_type": "stream",
     "text": [
      "[139.  194.  194.  159.6  67.8 159.6 139.  174.8 198.6 194. ]\n"
     ]
    }
   ],
   "source": [
    "predictions = knn.predict(test_df[[ 'accommodates', 'bathrooms' ]]) #Devuelve un array NumPy\n",
    "print(predictions[0:10])"
   ]
  },
  {
   "cell_type": "markdown",
   "id": "1a4d2ced-cea6-4877-b64a-10263922fea2",
   "metadata": {},
   "source": [
    "#### Aplicando todo lo aprendido de Scikit-learn"
   ]
  },
  {
   "cell_type": "code",
   "execution_count": 34,
   "id": "35462c18-83cf-4d24-b01a-65b912153b47",
   "metadata": {},
   "outputs": [
    {
     "name": "stdout",
     "output_type": "stream",
     "text": [
      "[139.  194.  194.  159.6  67.8 159.6 139.  174.8 198.6 194.  194.   67.8\n",
      " 194.  159.6 159.6 194.   67.8  67.8 146.2 450. ]\n"
     ]
    }
   ],
   "source": [
    "from sklearn.neighbors import KNeighborsRegressor\n",
    "\n",
    "train_df = normalized_listings.iloc[0:2792]\n",
    "test_df = normalized_listings.iloc[2792:]\n",
    "train_columns = ['accommodates', 'bathrooms']\n",
    "\n",
    "# Instanciando modelo de ML\n",
    "knn = KNeighborsRegressor(n_neighbors=5, algorithm='brute')\n",
    "\n",
    "# Ajustando modelo a los datos.\n",
    "knn.fit(train_df[train_columns], train_df['price'])\n",
    "\n",
    "# Haciendo predicciones\n",
    "predictions = knn.predict(test_df[train_columns])\n",
    "print(predictions[:20])"
   ]
  },
  {
   "cell_type": "markdown",
   "id": "7e7ee2a6-0481-40e2-a9b3-51431e4a7049",
   "metadata": {},
   "source": [
    "#### Calculo del MSE con Scikit-learn\n",
    "\n",
    "La funcion _**sklearn.metrics.mean_squared_error()**_ toma dos entradas:\n",
    "- Objeto tipo lista, que representa los valores verdaderos.\n",
    "- Objeto tipo lista, que representa los valores predichos usando el modelo."
   ]
  },
  {
   "cell_type": "code",
   "execution_count": 35,
   "id": "b4a878f7-3492-4010-a915-75013f151b1d",
   "metadata": {},
   "outputs": [
    {
     "name": "stdout",
     "output_type": "stream",
     "text": [
      "El MSE para el KNN con Scikit-learn es: 14844.169783845278 y el RMSE es: 121.8366520544835\n"
     ]
    }
   ],
   "source": [
    "from sklearn.metrics import mean_squared_error\n",
    "\n",
    "two_features_mse = mean_squared_error( test_df['price'], predictions )\n",
    "two_features_rmse = two_features_mse ** (1/2)\n",
    "print(f'El MSE para el KNN con Scikit-learn es: {two_features_mse} y el RMSE es: {two_features_rmse}')"
   ]
  },
  {
   "cell_type": "markdown",
   "id": "d635b2fa-3acd-4499-8163-c10f32daf2b6",
   "metadata": {},
   "source": [
    "Si recordamos los modelos anteriores, en los cuales solo se usaron una caracteristica (**caso Univariante**), podemos concluir que <br>\n",
    "este modelo acabo funcionando mejor (menor puntuacion de error). <br>"
   ]
  },
  {
   "cell_type": "markdown",
   "id": "1c814dec-991f-48c1-8bea-cfd3200bd09a",
   "metadata": {},
   "source": [
    "#### Modelo con mas caracteristicas.\n",
    "\n",
    "Ahora vamos a entrenar un modelo con _4_ caracteristicas:\n",
    "- accommodates.\n",
    "- bedrooms.\n",
    "- bathrooms.\n",
    "- number_of_reviews."
   ]
  },
  {
   "cell_type": "code",
   "execution_count": 36,
   "id": "1216f554-9897-45b5-8dde-48e1b01f7451",
   "metadata": {},
   "outputs": [
    {
     "name": "stdout",
     "output_type": "stream",
     "text": [
      "El modelo con 4 caracteristicas:\n",
      "['accommodates', 'bathrooms', 'bedrooms', 'number_of_reviews'] \n",
      "Tiene un MSE de: 11196.015335608647 y un RMSE de 105.81122499814775\n"
     ]
    }
   ],
   "source": [
    "from sklearn.neighbors import KNeighborsRegressor\n",
    "from sklearn.metrics import mean_squared_error\n",
    "\n",
    "train_df = normalized_listings.iloc[0:2792]\n",
    "test_df = normalized_listings.iloc[2792:]\n",
    "train_columns = [ 'accommodates', 'bathrooms', 'bedrooms', 'number_of_reviews' ]\n",
    "\n",
    "# Instanciando el modelo KNN de ML.\n",
    "knn = KNeighborsRegressor(n_neighbors=5, algorithm='brute')\n",
    "\n",
    "# Ajustando modelo a los datos.\n",
    "knn.fit(train_df[train_columns], train_df['price'])\n",
    "\n",
    "# Haciendo predicciones.\n",
    "predictions = knn.predict(test_df[train_columns])\n",
    "\n",
    "# Evaluando modelo.\n",
    "mse = mean_squared_error(test_df['price'], predictions)\n",
    "rmse = mse ** (1/2)\n",
    "print(f'El modelo con 4 caracteristicas:\\n{train_columns} \\nTiene un MSE de: {mse} y un RMSE de {rmse}')"
   ]
  },
  {
   "cell_type": "markdown",
   "id": "4a50fdec-0a7e-4f6b-88c9-9ad4fbfba58a",
   "metadata": {},
   "source": [
    "#### Utilizacion de todas las caracteristicas\n",
    "Hasta ahora existe la tendencia que al aumentar las caracteristicas, los valores de MSE y RMSE disminuyen. <br>\n",
    "Llevemos esto al extremo y utilizemos todas las caracteriticas."
   ]
  },
  {
   "cell_type": "code",
   "execution_count": 37,
   "id": "e5097866-62ff-4033-9745-f114940f586a",
   "metadata": {},
   "outputs": [
    {
     "name": "stdout",
     "output_type": "stream",
     "text": [
      "El modelo con todas las caracteriticas, arrojo un MSE de 10940.285961319682 y un RMSE de 104.59582191139224\n"
     ]
    }
   ],
   "source": [
    "from sklearn.neighbors import KNeighborsRegressor\n",
    "from sklearn.metrics import mean_squared_error\n",
    "\n",
    "train_df = normalized_listings.iloc[0:2792]\n",
    "test_df = normalized_listings.iloc[2792:]\n",
    "\n",
    "# Abstrayendo todas las columnas independientes.\n",
    "features = train_df.columns.tolist()\n",
    "features.remove('price')\n",
    "\n",
    "# Instanciando modelo.\n",
    "knn = KNeighborsRegressor(n_neighbors=5, algorithm='brute')\n",
    "\n",
    "# Ajustando modelo.\n",
    "knn.fit(train_df[features], train_df['price'])\n",
    "\n",
    "# Haciendo predicciones.\n",
    "all_features_predictions =  knn.predict(test_df[features])\n",
    "\n",
    "# Evaluando modelo.\n",
    "mse = mean_squared_error(test_df['price'], all_features_predictions)\n",
    "rmse = mse ** (1/2)\n",
    "print(f'El modelo con todas las caracteriticas, arrojo un MSE de {mse} y un RMSE de {rmse}')\n"
   ]
  },
  {
   "cell_type": "markdown",
   "id": "bfc2395e-4ce1-45fc-8d8b-3fc19a98bdf7",
   "metadata": {},
   "source": [
    "**Curiosamente, el MSE y el RMSE, sigui disminuyendo, aunque esto no es siempre asi, el usar mas caracteristicas no siempre mejorara las <br>\n",
    "precciones de nuestro modelo.**\n",
    "\n",
    "Asi que deberiamos considerar lo siguiente:\n",
    "- Seleccionar los atributos o caracteriticas relevantes para entrenar el modelo.\n",
    "\n",
    "Hasta ahora hemos visto que para mejorar las predicciones del modelo se usaron distintas y mas o menos caracteristicas. Lo que se conoce como _**seleccion de caracteristicas**_. Ademas de esto, podemos ajustar otras otros parametros, los llamados _**hiperparametros.**_"
   ]
  },
  {
   "cell_type": "markdown",
   "id": "bd75dca8-b63b-48a0-b4d7-ca90be04e084",
   "metadata": {},
   "source": [
    "### Exportando DataFrames a CSV."
   ]
  },
  {
   "cell_type": "code",
   "execution_count": 38,
   "id": "1d9f63e7-2136-45ad-93e9-4c55b2ab97e7",
   "metadata": {},
   "outputs": [],
   "source": [
    "train_df.to_csv('./train_df.csv')\n",
    "test_df.to_csv('./test_df.csv')"
   ]
  },
  {
   "cell_type": "code",
   "execution_count": null,
   "id": "884c1506-c98d-454f-b3c6-0e0c27f3c918",
   "metadata": {},
   "outputs": [],
   "source": []
  }
 ],
 "metadata": {
  "kernelspec": {
   "display_name": "Python 3 (ipykernel)",
   "language": "python",
   "name": "python3"
  },
  "language_info": {
   "codemirror_mode": {
    "name": "ipython",
    "version": 3
   },
   "file_extension": ".py",
   "mimetype": "text/x-python",
   "name": "python",
   "nbconvert_exporter": "python",
   "pygments_lexer": "ipython3",
   "version": "3.11.5"
  }
 },
 "nbformat": 4,
 "nbformat_minor": 5
}
