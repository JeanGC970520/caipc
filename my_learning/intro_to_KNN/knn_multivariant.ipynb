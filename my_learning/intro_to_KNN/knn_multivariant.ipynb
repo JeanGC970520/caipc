{
 "cells": [
  {
   "cell_type": "markdown",
   "id": "5fbede41-6a49-459f-95bc-90feb2d08300",
   "metadata": {},
   "source": [
    "# Multivariante del método K-Nearest Neighbors"
   ]
  },
  {
   "cell_type": "markdown",
   "id": "050677eb-2dcf-4821-a6f8-baf23edc0834",
   "metadata": {},
   "source": [
    "Hasta ahora exploramos como usar un modelo de ML, el KNN simple que uso solo una caracteristica para las predicciones. Si bien esto ayudo a familiarizarse con los conceptos basicos del ML, esta claro que usar una sola caracteristica no refleja la realidad.<br>\n",
    "\n",
    "Hay 2 formas en las que podemos retocar este modelo para tratar de mejorar la precision (mejorar el RMSE):<br>\n",
    "- Incrementar el numero de atributos (**caracteristicas**) que el modelo usa para calcular similitudes cuando ranque los vecinos mas cercanos.\n",
    "- Incrementar **k**, el numero de vecinos cercanos que el modelo usa."
   ]
  },
  {
   "cell_type": "markdown",
   "id": "82e6e564-3cae-44cf-b8b7-8832211dfae0",
   "metadata": {},
   "source": [
    "### Eliminacion de caracteristicas no utiles y _**Normalizacion**_ de los datos."
   ]
  },
  {
   "cell_type": "markdown",
   "id": "b27323a0-d55c-440a-8cc4-4f85d16704cf",
   "metadata": {},
   "source": [
    "Al seleccionar mas atributos, tenemos que tener cuidado con las columnas que no funcionan bien con la ecuacion de distancia:\n",
    "- Valores no numericos (ejemplo, ciudad o estado)\n",
    "    - La ecuacion de distancia euclidiana espera valores numericos.\n",
    "- Valores perdidos\n",
    "    - La ecuacion de la distancia euclideana espera un valor por cada observacion y atributo.\n",
    "- Valores no ordinales (por ejemplo, latitud o longitud)\n",
    "    - La clasifiacion por distancia euclideana no tiene sentido si todos los valores no son ordinales. "
   ]
  },
  {
   "cell_type": "code",
   "execution_count": 2,
   "id": "9550eab4-7c2d-450d-b3d6-87fec3e7f7a4",
   "metadata": {},
   "outputs": [
    {
     "data": {
      "text/html": [
       "<div>\n",
       "<style scoped>\n",
       "    .dataframe tbody tr th:only-of-type {\n",
       "        vertical-align: middle;\n",
       "    }\n",
       "\n",
       "    .dataframe tbody tr th {\n",
       "        vertical-align: top;\n",
       "    }\n",
       "\n",
       "    .dataframe thead th {\n",
       "        text-align: right;\n",
       "    }\n",
       "</style>\n",
       "<table border=\"1\" class=\"dataframe\">\n",
       "  <thead>\n",
       "    <tr style=\"text-align: right;\">\n",
       "      <th></th>\n",
       "      <th>host_response_rate</th>\n",
       "      <th>host_acceptance_rate</th>\n",
       "      <th>host_listings_count</th>\n",
       "      <th>accommodates</th>\n",
       "      <th>room_type</th>\n",
       "      <th>bedrooms</th>\n",
       "      <th>bathrooms</th>\n",
       "      <th>beds</th>\n",
       "      <th>price</th>\n",
       "      <th>cleaning_fee</th>\n",
       "      <th>security_deposit</th>\n",
       "      <th>minimum_nights</th>\n",
       "      <th>maximum_nights</th>\n",
       "      <th>number_of_reviews</th>\n",
       "      <th>latitude</th>\n",
       "      <th>longitude</th>\n",
       "      <th>city</th>\n",
       "      <th>zipcode</th>\n",
       "      <th>state</th>\n",
       "    </tr>\n",
       "  </thead>\n",
       "  <tbody>\n",
       "    <tr>\n",
       "      <th>3390</th>\n",
       "      <td>100%</td>\n",
       "      <td>100%</td>\n",
       "      <td>1</td>\n",
       "      <td>1</td>\n",
       "      <td>Private room</td>\n",
       "      <td>1.0</td>\n",
       "      <td>1.0</td>\n",
       "      <td>1.0</td>\n",
       "      <td>99.0</td>\n",
       "      <td>$30.00</td>\n",
       "      <td>NaN</td>\n",
       "      <td>2</td>\n",
       "      <td>1125</td>\n",
       "      <td>26</td>\n",
       "      <td>38.927722</td>\n",
       "      <td>-77.057276</td>\n",
       "      <td>Washington</td>\n",
       "      <td>20008</td>\n",
       "      <td>DC</td>\n",
       "    </tr>\n",
       "    <tr>\n",
       "      <th>3168</th>\n",
       "      <td>100%</td>\n",
       "      <td>90%</td>\n",
       "      <td>1</td>\n",
       "      <td>2</td>\n",
       "      <td>Private room</td>\n",
       "      <td>1.0</td>\n",
       "      <td>1.0</td>\n",
       "      <td>1.0</td>\n",
       "      <td>65.0</td>\n",
       "      <td>NaN</td>\n",
       "      <td>NaN</td>\n",
       "      <td>1</td>\n",
       "      <td>5</td>\n",
       "      <td>4</td>\n",
       "      <td>38.928664</td>\n",
       "      <td>-77.028240</td>\n",
       "      <td>Washington</td>\n",
       "      <td>20009</td>\n",
       "      <td>DC</td>\n",
       "    </tr>\n",
       "    <tr>\n",
       "      <th>3631</th>\n",
       "      <td>98%</td>\n",
       "      <td>52%</td>\n",
       "      <td>49</td>\n",
       "      <td>3</td>\n",
       "      <td>Entire home/apt</td>\n",
       "      <td>1.0</td>\n",
       "      <td>1.0</td>\n",
       "      <td>2.0</td>\n",
       "      <td>175.0</td>\n",
       "      <td>NaN</td>\n",
       "      <td>NaN</td>\n",
       "      <td>3</td>\n",
       "      <td>14</td>\n",
       "      <td>1</td>\n",
       "      <td>38.889065</td>\n",
       "      <td>-76.993576</td>\n",
       "      <td>Washington</td>\n",
       "      <td>20003</td>\n",
       "      <td>DC</td>\n",
       "    </tr>\n",
       "    <tr>\n",
       "      <th>187</th>\n",
       "      <td>58%</td>\n",
       "      <td>51%</td>\n",
       "      <td>480</td>\n",
       "      <td>2</td>\n",
       "      <td>Entire home/apt</td>\n",
       "      <td>1.0</td>\n",
       "      <td>1.0</td>\n",
       "      <td>1.0</td>\n",
       "      <td>239.0</td>\n",
       "      <td>$150.00</td>\n",
       "      <td>NaN</td>\n",
       "      <td>5</td>\n",
       "      <td>730</td>\n",
       "      <td>0</td>\n",
       "      <td>38.902898</td>\n",
       "      <td>-77.017474</td>\n",
       "      <td>Washington</td>\n",
       "      <td>20001</td>\n",
       "      <td>DC</td>\n",
       "    </tr>\n",
       "    <tr>\n",
       "      <th>348</th>\n",
       "      <td>58%</td>\n",
       "      <td>51%</td>\n",
       "      <td>480</td>\n",
       "      <td>2</td>\n",
       "      <td>Entire home/apt</td>\n",
       "      <td>0.0</td>\n",
       "      <td>1.0</td>\n",
       "      <td>1.0</td>\n",
       "      <td>159.0</td>\n",
       "      <td>$150.00</td>\n",
       "      <td>NaN</td>\n",
       "      <td>3</td>\n",
       "      <td>365</td>\n",
       "      <td>9</td>\n",
       "      <td>38.903948</td>\n",
       "      <td>-77.053441</td>\n",
       "      <td>Washington</td>\n",
       "      <td>20037</td>\n",
       "      <td>DC</td>\n",
       "    </tr>\n",
       "  </tbody>\n",
       "</table>\n",
       "</div>"
      ],
      "text/plain": [
       "     host_response_rate host_acceptance_rate  host_listings_count  \\\n",
       "3390               100%                 100%                    1   \n",
       "3168               100%                  90%                    1   \n",
       "3631                98%                  52%                   49   \n",
       "187                 58%                  51%                  480   \n",
       "348                 58%                  51%                  480   \n",
       "\n",
       "      accommodates        room_type  bedrooms  bathrooms  beds  price  \\\n",
       "3390             1     Private room       1.0        1.0   1.0   99.0   \n",
       "3168             2     Private room       1.0        1.0   1.0   65.0   \n",
       "3631             3  Entire home/apt       1.0        1.0   2.0  175.0   \n",
       "187              2  Entire home/apt       1.0        1.0   1.0  239.0   \n",
       "348              2  Entire home/apt       0.0        1.0   1.0  159.0   \n",
       "\n",
       "     cleaning_fee security_deposit  minimum_nights  maximum_nights  \\\n",
       "3390       $30.00              NaN               2            1125   \n",
       "3168          NaN              NaN               1               5   \n",
       "3631          NaN              NaN               3              14   \n",
       "187       $150.00              NaN               5             730   \n",
       "348       $150.00              NaN               3             365   \n",
       "\n",
       "      number_of_reviews   latitude  longitude        city zipcode state  \n",
       "3390                 26  38.927722 -77.057276  Washington   20008    DC  \n",
       "3168                  4  38.928664 -77.028240  Washington   20009    DC  \n",
       "3631                  1  38.889065 -76.993576  Washington   20003    DC  \n",
       "187                   0  38.902898 -77.017474  Washington   20001    DC  \n",
       "348                   9  38.903948 -77.053441  Washington   20037    DC  "
      ]
     },
     "execution_count": 2,
     "metadata": {},
     "output_type": "execute_result"
    }
   ],
   "source": [
    "import pandas as pd\n",
    "import numpy as np\n",
    "\n",
    "# Leyendo datos y acomodandolos aleatoreamente\n",
    "dc_listings = pd.read_csv('dc_airbnb.csv')\n",
    "dc_listings = dc_listings.loc[ np.random.permutation(len(dc_listings)) ]\n",
    "\n",
    "# Convirtiendo la columna price a float (limpiando datos)\n",
    "stripped_commas = dc_listings['price'].str.replace(',', '')\n",
    "stripped_dollars = stripped_commas.str.replace('$', '')\n",
    "dc_listings['price'] = stripped_dollars.astype('float')\n",
    "\n",
    "dc_listings.head()"
   ]
  },
  {
   "cell_type": "code",
   "execution_count": 3,
   "id": "8adc8f2d-8ad3-4e13-a1fe-d5f7d100294d",
   "metadata": {},
   "outputs": [
    {
     "name": "stdout",
     "output_type": "stream",
     "text": [
      "<class 'pandas.core.frame.DataFrame'>\n",
      "Index: 3723 entries, 3390 to 3693\n",
      "Data columns (total 19 columns):\n",
      " #   Column                Non-Null Count  Dtype  \n",
      "---  ------                --------------  -----  \n",
      " 0   host_response_rate    3289 non-null   object \n",
      " 1   host_acceptance_rate  3109 non-null   object \n",
      " 2   host_listings_count   3723 non-null   int64  \n",
      " 3   accommodates          3723 non-null   int64  \n",
      " 4   room_type             3723 non-null   object \n",
      " 5   bedrooms              3702 non-null   float64\n",
      " 6   bathrooms             3696 non-null   float64\n",
      " 7   beds                  3712 non-null   float64\n",
      " 8   price                 3723 non-null   float64\n",
      " 9   cleaning_fee          2335 non-null   object \n",
      " 10  security_deposit      1426 non-null   object \n",
      " 11  minimum_nights        3723 non-null   int64  \n",
      " 12  maximum_nights        3723 non-null   int64  \n",
      " 13  number_of_reviews     3723 non-null   int64  \n",
      " 14  latitude              3723 non-null   float64\n",
      " 15  longitude             3723 non-null   float64\n",
      " 16  city                  3723 non-null   object \n",
      " 17  zipcode               3714 non-null   object \n",
      " 18  state                 3723 non-null   object \n",
      "dtypes: float64(6), int64(5), object(8)\n",
      "memory usage: 581.7+ KB\n",
      "None\n"
     ]
    }
   ],
   "source": [
    "# Mostrando informacion general de los datos. \n",
    "# Como: columnas, cuantos valores no nulos contiene cada columna y el tipo de dato\n",
    "print(dc_listings.info())"
   ]
  },
  {
   "cell_type": "markdown",
   "id": "bf069150-2d47-4031-b1d3-556764a8f978",
   "metadata": {},
   "source": [
    "Como podemos observar: \n",
    "- Hay columnas que contienen valores _**NO númericos**_:\n",
    "    - _room_type_\n",
    "    - _city_\n",
    "    - _state_\n",
    "- Y columnas con valores númericos pero _**NO ordinales**_:\n",
    "    - _latitude_\n",
    "    - _longitude_\n",
    "    - _zipcode_\n",
    "\n",
    "\n",
    "A su vez tambien evitaremos cualquier columna que no describa directamente el espacio vital:\n",
    "- _host_response_rate_\n",
    "- _host_acceptance_rate_\n",
    "- _host_listings_count_\n"
   ]
  },
  {
   "cell_type": "code",
   "execution_count": 4,
   "id": "42871bd5-237b-45e9-8004-4e30d9584f85",
   "metadata": {},
   "outputs": [
    {
     "data": {
      "text/plain": [
       "accommodates            0\n",
       "bedrooms               21\n",
       "bathrooms              27\n",
       "beds                   11\n",
       "price                   0\n",
       "cleaning_fee         1388\n",
       "security_deposit     2297\n",
       "minimum_nights          0\n",
       "maximum_nights          0\n",
       "number_of_reviews       0\n",
       "dtype: int64"
      ]
     },
     "execution_count": 4,
     "metadata": {},
     "output_type": "execute_result"
    }
   ],
   "source": [
    "# Eliminando columnas no utiles.\n",
    "drop_columns = [ 'room_type', 'city', 'state', 'latitude', 'longitude', 'zipcode', 'host_response_rate', 'host_acceptance_rate', 'host_listings_count' ]\n",
    "dc_listings = dc_listings.drop(drop_columns, axis=1)\n",
    "dc_listings.isnull().sum()"
   ]
  },
  {
   "cell_type": "markdown",
   "id": "ef0765ce-7932-47b4-92b8-f910d67d2c89",
   "metadata": {},
   "source": [
    "De las columnas restantes, hay algunas que tienen pocos valores nulos:\n",
    "- _bedrooms_\n",
    "- _bathrooms_\n",
    "- _beds_\n",
    "\n",
    "De las cuales podemos eliminar esas filas sin perder mucha informacion.\n",
    "\n",
    "Pero tambien hay 2 columnas con un gran numero de valores perdidos:\n",
    "- _cleaning_fee_\n",
    "- _security_deposit_\n",
    "\n",
    "En este caso no podemos eliminar simplemente las filas, ya que perderiamos mucha informacion. Por ello, vamos a eliminar <br>\n",
    "por completo esas dos columas."
   ]
  },
  {
   "cell_type": "code",
   "execution_count": 5,
   "id": "9fda388e-632a-4708-8c9d-2b0f667cc86a",
   "metadata": {},
   "outputs": [
    {
     "data": {
      "text/plain": [
       "accommodates         0\n",
       "bedrooms             0\n",
       "bathrooms            0\n",
       "beds                 0\n",
       "price                0\n",
       "minimum_nights       0\n",
       "maximum_nights       0\n",
       "number_of_reviews    0\n",
       "dtype: int64"
      ]
     },
     "execution_count": 5,
     "metadata": {},
     "output_type": "execute_result"
    }
   ],
   "source": [
    "# Eliminando columnas con un gran numero de valores perdidos\n",
    "dc_listings = dc_listings.drop([ 'cleaning_fee', 'security_deposit' ], axis=1)\n",
    "\n",
    "# Eliminando filas con valores nulos\n",
    "dc_listings = dc_listings.dropna(axis=0)\n",
    "\n",
    "dc_listings.isnull().sum()"
   ]
  },
  {
   "cell_type": "markdown",
   "id": "46769e57-9e73-48b2-aaed-be410ec11737",
   "metadata": {},
   "source": [
    "#### Normalizacion de Columnas"
   ]
  },
  {
   "cell_type": "code",
   "execution_count": 6,
   "id": "e160c9f8-135c-4d61-abb3-ba38efb04288",
   "metadata": {},
   "outputs": [
    {
     "data": {
      "text/html": [
       "<div>\n",
       "<style scoped>\n",
       "    .dataframe tbody tr th:only-of-type {\n",
       "        vertical-align: middle;\n",
       "    }\n",
       "\n",
       "    .dataframe tbody tr th {\n",
       "        vertical-align: top;\n",
       "    }\n",
       "\n",
       "    .dataframe thead th {\n",
       "        text-align: right;\n",
       "    }\n",
       "</style>\n",
       "<table border=\"1\" class=\"dataframe\">\n",
       "  <thead>\n",
       "    <tr style=\"text-align: right;\">\n",
       "      <th></th>\n",
       "      <th>accommodates</th>\n",
       "      <th>bedrooms</th>\n",
       "      <th>bathrooms</th>\n",
       "      <th>beds</th>\n",
       "      <th>price</th>\n",
       "      <th>minimum_nights</th>\n",
       "      <th>maximum_nights</th>\n",
       "      <th>number_of_reviews</th>\n",
       "    </tr>\n",
       "  </thead>\n",
       "  <tbody>\n",
       "    <tr>\n",
       "      <th>3390</th>\n",
       "      <td>1</td>\n",
       "      <td>1.0</td>\n",
       "      <td>1.0</td>\n",
       "      <td>1.0</td>\n",
       "      <td>99.0</td>\n",
       "      <td>2</td>\n",
       "      <td>1125</td>\n",
       "      <td>26</td>\n",
       "    </tr>\n",
       "    <tr>\n",
       "      <th>3168</th>\n",
       "      <td>2</td>\n",
       "      <td>1.0</td>\n",
       "      <td>1.0</td>\n",
       "      <td>1.0</td>\n",
       "      <td>65.0</td>\n",
       "      <td>1</td>\n",
       "      <td>5</td>\n",
       "      <td>4</td>\n",
       "    </tr>\n",
       "    <tr>\n",
       "      <th>3631</th>\n",
       "      <td>3</td>\n",
       "      <td>1.0</td>\n",
       "      <td>1.0</td>\n",
       "      <td>2.0</td>\n",
       "      <td>175.0</td>\n",
       "      <td>3</td>\n",
       "      <td>14</td>\n",
       "      <td>1</td>\n",
       "    </tr>\n",
       "    <tr>\n",
       "      <th>187</th>\n",
       "      <td>2</td>\n",
       "      <td>1.0</td>\n",
       "      <td>1.0</td>\n",
       "      <td>1.0</td>\n",
       "      <td>239.0</td>\n",
       "      <td>5</td>\n",
       "      <td>730</td>\n",
       "      <td>0</td>\n",
       "    </tr>\n",
       "    <tr>\n",
       "      <th>348</th>\n",
       "      <td>2</td>\n",
       "      <td>0.0</td>\n",
       "      <td>1.0</td>\n",
       "      <td>1.0</td>\n",
       "      <td>159.0</td>\n",
       "      <td>3</td>\n",
       "      <td>365</td>\n",
       "      <td>9</td>\n",
       "    </tr>\n",
       "  </tbody>\n",
       "</table>\n",
       "</div>"
      ],
      "text/plain": [
       "      accommodates  bedrooms  bathrooms  beds  price  minimum_nights  \\\n",
       "3390             1       1.0        1.0   1.0   99.0               2   \n",
       "3168             2       1.0        1.0   1.0   65.0               1   \n",
       "3631             3       1.0        1.0   2.0  175.0               3   \n",
       "187              2       1.0        1.0   1.0  239.0               5   \n",
       "348              2       0.0        1.0   1.0  159.0               3   \n",
       "\n",
       "      maximum_nights  number_of_reviews  \n",
       "3390            1125                 26  \n",
       "3168               5                  4  \n",
       "3631              14                  1  \n",
       "187              730                  0  \n",
       "348              365                  9  "
      ]
     },
     "execution_count": 6,
     "metadata": {},
     "output_type": "execute_result"
    }
   ],
   "source": [
    "dc_listings.head()"
   ]
  },
  {
   "cell_type": "markdown",
   "id": "5583cb70-e987-46f2-809d-ed173d18a93e",
   "metadata": {},
   "source": [
    "Como se puede observar, hay columnas con valores con mucha varianza, valores desmesurados. Y debido a como se calcula la _distancia euclideana_ <br>\n",
    "podria ocasionar errores de distancia. \n",
    "Para evitar que una sola columna tenga demasiado impacto en la distancia, podemos _**normalizar**_ todas las columnas para que tengan una media de 0 <br>\n",
    "y una desviacion estandar de 1.\n",
    "\n",
    "_La **normalización** de los valores de cada columna preserva la distribucion de los valores de cada columana a su vez que alinea las escalas._\n",
    "\n",
    "Esta es la formúla matemática que describe la transformacion que debe aplicarse a todos los valores de la columna: $$ Z_{i} = \\frac{X_{i} - \\mu}{\\sigma} $$\n",
    "\n",
    "Donde:\n",
    "- $X_{i}$  es in valor de una columna especifica.\n",
    "- $\\mu$  es la media de todos los valores de la columna.\n",
    "- $\\sigma$  es a desviación estandar de todos los valores de la columna."
   ]
  },
  {
   "cell_type": "code",
   "execution_count": 7,
   "id": "52e05dcb-b476-43d2-9262-b14fbca61fe7",
   "metadata": {},
   "outputs": [
    {
     "name": "stdout",
     "output_type": "stream",
     "text": [
      "3390   -0.016573\n",
      "3168   -0.016604\n",
      "3631   -0.016604\n",
      "Name: maximum_nights, dtype: float64\n",
      "3390   -0.016573\n",
      "3168   -0.016604\n",
      "3631   -0.016604\n",
      "Name: maximum_nights, dtype: float64\n"
     ]
    }
   ],
   "source": [
    "# Probando la normalizacion para entender la teoria.\n",
    "first_transform = dc_listings['maximum_nights'] - dc_listings['maximum_nights'].mean()\n",
    "normalized_column = first_transform / first_transform.std()\n",
    "print(normalized_column.head(3))\n",
    "\n",
    "# O de otra manera\n",
    "normalized_column = first_transform / dc_listings['maximum_nights'].std()\n",
    "print(normalized_column.head(3))"
   ]
  },
  {
   "cell_type": "markdown",
   "id": "0dc1ea72-024d-4065-a858-dd1532bdedde",
   "metadata": {},
   "source": [
    "##### Aplicando esta trandormacion a todas las columnas de un DataFrame\n",
    "Para ello se puede usar los metodos **mean()** y **std()** del DataFrame. Al utilizar estos métodos, se utilizan las medias y las desviaciones estándar de las columnas apropiadas para cada valor del DataFrame."
   ]
  },
  {
   "cell_type": "code",
   "execution_count": 8,
   "id": "c1b5695b-6f4f-4e34-9d9b-5f6a1c0d14b9",
   "metadata": {},
   "outputs": [
    {
     "data": {
      "text/html": [
       "<div>\n",
       "<style scoped>\n",
       "    .dataframe tbody tr th:only-of-type {\n",
       "        vertical-align: middle;\n",
       "    }\n",
       "\n",
       "    .dataframe tbody tr th {\n",
       "        vertical-align: top;\n",
       "    }\n",
       "\n",
       "    .dataframe thead th {\n",
       "        text-align: right;\n",
       "    }\n",
       "</style>\n",
       "<table border=\"1\" class=\"dataframe\">\n",
       "  <thead>\n",
       "    <tr style=\"text-align: right;\">\n",
       "      <th></th>\n",
       "      <th>accommodates</th>\n",
       "      <th>bedrooms</th>\n",
       "      <th>bathrooms</th>\n",
       "      <th>beds</th>\n",
       "      <th>price</th>\n",
       "      <th>minimum_nights</th>\n",
       "      <th>maximum_nights</th>\n",
       "      <th>number_of_reviews</th>\n",
       "    </tr>\n",
       "  </thead>\n",
       "  <tbody>\n",
       "    <tr>\n",
       "      <th>3390</th>\n",
       "      <td>-1.095499</td>\n",
       "      <td>-0.249467</td>\n",
       "      <td>-0.439151</td>\n",
       "      <td>-0.546858</td>\n",
       "      <td>99.0</td>\n",
       "      <td>-0.065038</td>\n",
       "      <td>-0.016573</td>\n",
       "      <td>0.372589</td>\n",
       "    </tr>\n",
       "    <tr>\n",
       "      <th>3168</th>\n",
       "      <td>-0.596544</td>\n",
       "      <td>-0.249467</td>\n",
       "      <td>-0.439151</td>\n",
       "      <td>-0.546858</td>\n",
       "      <td>65.0</td>\n",
       "      <td>-0.341375</td>\n",
       "      <td>-0.016604</td>\n",
       "      <td>-0.379894</td>\n",
       "    </tr>\n",
       "    <tr>\n",
       "      <th>3631</th>\n",
       "      <td>-0.097589</td>\n",
       "      <td>-0.249467</td>\n",
       "      <td>-0.439151</td>\n",
       "      <td>0.297345</td>\n",
       "      <td>175.0</td>\n",
       "      <td>0.211298</td>\n",
       "      <td>-0.016604</td>\n",
       "      <td>-0.482505</td>\n",
       "    </tr>\n",
       "  </tbody>\n",
       "</table>\n",
       "</div>"
      ],
      "text/plain": [
       "      accommodates  bedrooms  bathrooms      beds  price  minimum_nights  \\\n",
       "3390     -1.095499 -0.249467  -0.439151 -0.546858   99.0       -0.065038   \n",
       "3168     -0.596544 -0.249467  -0.439151 -0.546858   65.0       -0.341375   \n",
       "3631     -0.097589 -0.249467  -0.439151  0.297345  175.0        0.211298   \n",
       "\n",
       "      maximum_nights  number_of_reviews  \n",
       "3390       -0.016573           0.372589  \n",
       "3168       -0.016604          -0.379894  \n",
       "3631       -0.016604          -0.482505  "
      ]
     },
     "execution_count": 8,
     "metadata": {},
     "output_type": "execute_result"
    }
   ],
   "source": [
    "normalized_listings = ( dc_listings - dc_listings.mean() ) / (dc_listings.std())\n",
    "normalized_listings['price'] =  dc_listings['price']\n",
    "normalized_listings.head(3)"
   ]
  },
  {
   "cell_type": "markdown",
   "id": "6e254119-eeff-424d-ac48-6b5bea51bb1a",
   "metadata": {},
   "source": [
    "### Calcúlo de la Distancia Euclideana para el _**Caso Multivariante**_"
   ]
  },
  {
   "cell_type": "markdown",
   "id": "53570501-3038-4736-84c4-5df739e643b4",
   "metadata": {},
   "source": [
    "Anteriormente utilizamos dos modelos univariantes de KNN, utilizando el atributo _**accomodates**_ para el primero y _**bathrooms**_ para el segundo. <br>\n",
    "Ahora entrenaremos un modelo con ambos atributos. Recordando que la ecuacion de la _distancia euclideana_ esta definida como: $$ d = \\sqrt{(q_{1}-p_{1})^{2} + (q_{2}-p_{2})^{2} + ... + (q_{n}-p_{n})^{2}} $$\n",
    "Y bien para hacer el calculo en Python, ahora nos apoyaremos del modulo _**scipy**_, utilizando la funcion _**distance.euclidean()**_:"
   ]
  },
  {
   "cell_type": "code",
   "execution_count": 11,
   "id": "fa703010-24e6-4efd-8942-2d5d955f3d93",
   "metadata": {},
   "outputs": [],
   "source": [
    "from scipy.spatial import distance\n",
    "\n",
    "first_listing = [ -0.596544, -0.439151 ]\n",
    "second_listing = [ -0.596544, -0.412923 ]\n",
    "\n",
    "dist = distance.euclidean( first_listing, second_listing )"
   ]
  },
  {
   "cell_type": "markdown",
   "id": "c16b6c76-0447-4c9e-9806-5c00e1161d5c",
   "metadata": {},
   "source": [
    "La funcion euclidean(), espera:\n",
    "- Dos vectores, los cuales se deben representar con un objeto tipo _lista_ (lista de Python, array de NumPy o serie de Pandas).\n",
    "- Ambos deben ser unidimensionales y tener el mismo numero de elementos."
   ]
  },
  {
   "cell_type": "code",
   "execution_count": 14,
   "id": "29601e52-09d4-4262-ad24-987b9df83a49",
   "metadata": {},
   "outputs": [
    {
     "name": "stdout",
     "output_type": "stream",
     "text": [
      "La distancia entre el primer elemento y el quinto de nuestro conjunto de datos es: 0.49895477658834086\n"
     ]
    }
   ],
   "source": [
    "from scipy.spatial import distance\n",
    "first_listing = normalized_listings.iloc[0][ ['accommodates', 'bathrooms'] ]\n",
    "fifth_listing = normalized_listings.iloc[4][ ['accommodates', 'bathrooms'] ]\n",
    "\n",
    "first_fifth_distance = distance.euclidean( first_listing, fifth_listing )\n",
    "print(f'La distancia entre el primer elemento y el quinto de nuestro conjunto de datos es: {first_fifth_distance}')"
   ]
  },
  {
   "cell_type": "code",
   "execution_count": null,
   "id": "d5e142d0-76c1-4111-be12-2981cc2aecd9",
   "metadata": {},
   "outputs": [],
   "source": []
  }
 ],
 "metadata": {
  "kernelspec": {
   "display_name": "Python 3 (ipykernel)",
   "language": "python",
   "name": "python3"
  },
  "language_info": {
   "codemirror_mode": {
    "name": "ipython",
    "version": 3
   },
   "file_extension": ".py",
   "mimetype": "text/x-python",
   "name": "python",
   "nbconvert_exporter": "python",
   "pygments_lexer": "ipython3",
   "version": "3.11.5"
  }
 },
 "nbformat": 4,
 "nbformat_minor": 5
}
