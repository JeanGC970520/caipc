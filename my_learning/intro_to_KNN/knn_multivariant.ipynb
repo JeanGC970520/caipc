{
 "cells": [
  {
   "cell_type": "markdown",
   "id": "5fbede41-6a49-459f-95bc-90feb2d08300",
   "metadata": {},
   "source": [
    "# Multivariante del método K-Nearest Neighbors"
   ]
  },
  {
   "cell_type": "code",
   "execution_count": null,
   "id": "1c4e257d-25fc-4bd5-879e-7f5768b9fee3",
   "metadata": {},
   "outputs": [],
   "source": []
  }
 ],
 "metadata": {
  "kernelspec": {
   "display_name": "Python 3 (ipykernel)",
   "language": "python",
   "name": "python3"
  },
  "language_info": {
   "codemirror_mode": {
    "name": "ipython",
    "version": 3
   },
   "file_extension": ".py",
   "mimetype": "text/x-python",
   "name": "python",
   "nbconvert_exporter": "python",
   "pygments_lexer": "ipython3",
   "version": "3.11.5"
  }
 },
 "nbformat": 4,
 "nbformat_minor": 5
}
