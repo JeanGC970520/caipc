{
 "cells": [
  {
   "cell_type": "markdown",
   "id": "30341cc6-52b7-4e18-a135-e01c2be86f01",
   "metadata": {},
   "source": [
    "# KNN desde cero"
   ]
  },
  {
   "attachments": {},
   "cell_type": "markdown",
   "id": "5f1ff231-daad-42b7-8f76-e54c256e986a",
   "metadata": {},
   "source": [
    "### _**\"Los datos son el registro de todo lo que ocurre. El ML nos ayuda a descubrir patrones en los datos, que es donde vive el significado, el verdadero valor\"**_"
   ]
  },
  {
   "cell_type": "code",
   "execution_count": 1,
   "id": "66d3b439-9655-4d3b-8631-3be5f68594bb",
   "metadata": {},
   "outputs": [
    {
     "data": {
      "text/html": [
       "<div>\n",
       "<style scoped>\n",
       "    .dataframe tbody tr th:only-of-type {\n",
       "        vertical-align: middle;\n",
       "    }\n",
       "\n",
       "    .dataframe tbody tr th {\n",
       "        vertical-align: top;\n",
       "    }\n",
       "\n",
       "    .dataframe thead th {\n",
       "        text-align: right;\n",
       "    }\n",
       "</style>\n",
       "<table border=\"1\" class=\"dataframe\">\n",
       "  <thead>\n",
       "    <tr style=\"text-align: right;\">\n",
       "      <th></th>\n",
       "      <th>host_response_rate</th>\n",
       "      <th>host_acceptance_rate</th>\n",
       "      <th>host_listings_count</th>\n",
       "      <th>accommodates</th>\n",
       "      <th>room_type</th>\n",
       "      <th>bedrooms</th>\n",
       "      <th>bathrooms</th>\n",
       "      <th>beds</th>\n",
       "      <th>price</th>\n",
       "      <th>cleaning_fee</th>\n",
       "      <th>security_deposit</th>\n",
       "      <th>minimum_nights</th>\n",
       "      <th>maximum_nights</th>\n",
       "      <th>number_of_reviews</th>\n",
       "      <th>latitude</th>\n",
       "      <th>longitude</th>\n",
       "      <th>city</th>\n",
       "      <th>zipcode</th>\n",
       "      <th>state</th>\n",
       "    </tr>\n",
       "  </thead>\n",
       "  <tbody>\n",
       "    <tr>\n",
       "      <th>0</th>\n",
       "      <td>92%</td>\n",
       "      <td>91%</td>\n",
       "      <td>26</td>\n",
       "      <td>4</td>\n",
       "      <td>Entire home/apt</td>\n",
       "      <td>1.0</td>\n",
       "      <td>1.0</td>\n",
       "      <td>2.0</td>\n",
       "      <td>$160.00</td>\n",
       "      <td>$115.00</td>\n",
       "      <td>$100.00</td>\n",
       "      <td>1</td>\n",
       "      <td>1125</td>\n",
       "      <td>0</td>\n",
       "      <td>38.890046</td>\n",
       "      <td>-77.002808</td>\n",
       "      <td>Washington</td>\n",
       "      <td>20003</td>\n",
       "      <td>DC</td>\n",
       "    </tr>\n",
       "    <tr>\n",
       "      <th>1</th>\n",
       "      <td>90%</td>\n",
       "      <td>100%</td>\n",
       "      <td>1</td>\n",
       "      <td>6</td>\n",
       "      <td>Entire home/apt</td>\n",
       "      <td>3.0</td>\n",
       "      <td>3.0</td>\n",
       "      <td>3.0</td>\n",
       "      <td>$350.00</td>\n",
       "      <td>$100.00</td>\n",
       "      <td>NaN</td>\n",
       "      <td>2</td>\n",
       "      <td>30</td>\n",
       "      <td>65</td>\n",
       "      <td>38.880413</td>\n",
       "      <td>-76.990485</td>\n",
       "      <td>Washington</td>\n",
       "      <td>20003</td>\n",
       "      <td>DC</td>\n",
       "    </tr>\n",
       "    <tr>\n",
       "      <th>2</th>\n",
       "      <td>90%</td>\n",
       "      <td>100%</td>\n",
       "      <td>2</td>\n",
       "      <td>1</td>\n",
       "      <td>Private room</td>\n",
       "      <td>1.0</td>\n",
       "      <td>2.0</td>\n",
       "      <td>1.0</td>\n",
       "      <td>$50.00</td>\n",
       "      <td>NaN</td>\n",
       "      <td>NaN</td>\n",
       "      <td>2</td>\n",
       "      <td>1125</td>\n",
       "      <td>1</td>\n",
       "      <td>38.955291</td>\n",
       "      <td>-76.986006</td>\n",
       "      <td>Hyattsville</td>\n",
       "      <td>20782</td>\n",
       "      <td>MD</td>\n",
       "    </tr>\n",
       "    <tr>\n",
       "      <th>3</th>\n",
       "      <td>100%</td>\n",
       "      <td>NaN</td>\n",
       "      <td>1</td>\n",
       "      <td>2</td>\n",
       "      <td>Private room</td>\n",
       "      <td>1.0</td>\n",
       "      <td>1.0</td>\n",
       "      <td>1.0</td>\n",
       "      <td>$95.00</td>\n",
       "      <td>NaN</td>\n",
       "      <td>NaN</td>\n",
       "      <td>1</td>\n",
       "      <td>1125</td>\n",
       "      <td>0</td>\n",
       "      <td>38.872134</td>\n",
       "      <td>-77.019639</td>\n",
       "      <td>Washington</td>\n",
       "      <td>20024</td>\n",
       "      <td>DC</td>\n",
       "    </tr>\n",
       "    <tr>\n",
       "      <th>4</th>\n",
       "      <td>92%</td>\n",
       "      <td>67%</td>\n",
       "      <td>1</td>\n",
       "      <td>4</td>\n",
       "      <td>Entire home/apt</td>\n",
       "      <td>1.0</td>\n",
       "      <td>1.0</td>\n",
       "      <td>1.0</td>\n",
       "      <td>$50.00</td>\n",
       "      <td>$15.00</td>\n",
       "      <td>$450.00</td>\n",
       "      <td>7</td>\n",
       "      <td>1125</td>\n",
       "      <td>0</td>\n",
       "      <td>38.996382</td>\n",
       "      <td>-77.041541</td>\n",
       "      <td>Silver Spring</td>\n",
       "      <td>20910</td>\n",
       "      <td>MD</td>\n",
       "    </tr>\n",
       "  </tbody>\n",
       "</table>\n",
       "</div>"
      ],
      "text/plain": [
       "  host_response_rate host_acceptance_rate  host_listings_count  accommodates  \\\n",
       "0                92%                  91%                   26             4   \n",
       "1                90%                 100%                    1             6   \n",
       "2                90%                 100%                    2             1   \n",
       "3               100%                  NaN                    1             2   \n",
       "4                92%                  67%                    1             4   \n",
       "\n",
       "         room_type  bedrooms  bathrooms  beds    price cleaning_fee  \\\n",
       "0  Entire home/apt       1.0        1.0   2.0  $160.00      $115.00   \n",
       "1  Entire home/apt       3.0        3.0   3.0  $350.00      $100.00   \n",
       "2     Private room       1.0        2.0   1.0   $50.00          NaN   \n",
       "3     Private room       1.0        1.0   1.0   $95.00          NaN   \n",
       "4  Entire home/apt       1.0        1.0   1.0   $50.00       $15.00   \n",
       "\n",
       "  security_deposit  minimum_nights  maximum_nights  number_of_reviews  \\\n",
       "0          $100.00               1            1125                  0   \n",
       "1              NaN               2              30                 65   \n",
       "2              NaN               2            1125                  1   \n",
       "3              NaN               1            1125                  0   \n",
       "4          $450.00               7            1125                  0   \n",
       "\n",
       "    latitude  longitude           city zipcode state  \n",
       "0  38.890046 -77.002808     Washington   20003    DC  \n",
       "1  38.880413 -76.990485     Washington   20003    DC  \n",
       "2  38.955291 -76.986006    Hyattsville   20782    MD  \n",
       "3  38.872134 -77.019639     Washington   20024    DC  \n",
       "4  38.996382 -77.041541  Silver Spring   20910    MD  "
      ]
     },
     "execution_count": 1,
     "metadata": {},
     "output_type": "execute_result"
    }
   ],
   "source": [
    "import pandas as pd\n",
    "dc_listings = pd.read_csv(\"dc_airbnb.csv\")\n",
    "dc_listings.head()"
   ]
  },
  {
   "cell_type": "markdown",
   "id": "79a57417-74e8-4a1b-8211-77024527e993",
   "metadata": {},
   "source": [
    "### Ahora haremos un analisis exploratorio (EDA) de los datos."
   ]
  },
  {
   "cell_type": "code",
   "execution_count": 3,
   "id": "b2a922fa-5e35-4c83-9e71-4be6d4a757e7",
   "metadata": {},
   "outputs": [
    {
     "data": {
      "text/plain": [
       "host_response_rate       434\n",
       "host_acceptance_rate     614\n",
       "host_listings_count        0\n",
       "accommodates               0\n",
       "room_type                  0\n",
       "bedrooms                  21\n",
       "bathrooms                 27\n",
       "beds                      11\n",
       "price                      0\n",
       "cleaning_fee            1388\n",
       "security_deposit        2297\n",
       "minimum_nights             0\n",
       "maximum_nights             0\n",
       "number_of_reviews          0\n",
       "latitude                   0\n",
       "longitude                  0\n",
       "city                       0\n",
       "zipcode                    9\n",
       "state                      0\n",
       "dtype: int64"
      ]
     },
     "execution_count": 3,
     "metadata": {},
     "output_type": "execute_result"
    }
   ],
   "source": [
    "dc_listings.isnull().sum()"
   ]
  },
  {
   "cell_type": "code",
   "execution_count": 10,
   "id": "c2f8bfb7-aac6-4ed1-bfc4-ff032779efe7",
   "metadata": {},
   "outputs": [
    {
     "data": {
      "text/html": [
       "<div>\n",
       "<style scoped>\n",
       "    .dataframe tbody tr th:only-of-type {\n",
       "        vertical-align: middle;\n",
       "    }\n",
       "\n",
       "    .dataframe tbody tr th {\n",
       "        vertical-align: top;\n",
       "    }\n",
       "\n",
       "    .dataframe thead th {\n",
       "        text-align: right;\n",
       "    }\n",
       "</style>\n",
       "<table border=\"1\" class=\"dataframe\">\n",
       "  <thead>\n",
       "    <tr style=\"text-align: right;\">\n",
       "      <th></th>\n",
       "      <th>host_listings_count</th>\n",
       "      <th>accommodates</th>\n",
       "      <th>bedrooms</th>\n",
       "      <th>bathrooms</th>\n",
       "      <th>beds</th>\n",
       "      <th>minimum_nights</th>\n",
       "      <th>maximum_nights</th>\n",
       "      <th>number_of_reviews</th>\n",
       "      <th>latitude</th>\n",
       "      <th>longitude</th>\n",
       "    </tr>\n",
       "  </thead>\n",
       "  <tbody>\n",
       "    <tr>\n",
       "      <th>count</th>\n",
       "      <td>3723.000000</td>\n",
       "      <td>3723.000000</td>\n",
       "      <td>3702.000000</td>\n",
       "      <td>3696.000000</td>\n",
       "      <td>3712.000000</td>\n",
       "      <td>3723.000000</td>\n",
       "      <td>3.723000e+03</td>\n",
       "      <td>3723.000000</td>\n",
       "      <td>3723.000000</td>\n",
       "      <td>3723.000000</td>\n",
       "    </tr>\n",
       "    <tr>\n",
       "      <th>mean</th>\n",
       "      <td>13.517325</td>\n",
       "      <td>3.195004</td>\n",
       "      <td>1.210157</td>\n",
       "      <td>1.256358</td>\n",
       "      <td>1.643319</td>\n",
       "      <td>2.250067</td>\n",
       "      <td>5.803069e+05</td>\n",
       "      <td>15.306742</td>\n",
       "      <td>38.913967</td>\n",
       "      <td>-77.023294</td>\n",
       "    </tr>\n",
       "    <tr>\n",
       "      <th>std</th>\n",
       "      <td>64.534408</td>\n",
       "      <td>2.012216</td>\n",
       "      <td>0.839851</td>\n",
       "      <td>0.585539</td>\n",
       "      <td>1.182117</td>\n",
       "      <td>3.622879</td>\n",
       "      <td>3.519552e+07</td>\n",
       "      <td>29.645586</td>\n",
       "      <td>0.021647</td>\n",
       "      <td>0.026951</td>\n",
       "    </tr>\n",
       "    <tr>\n",
       "      <th>min</th>\n",
       "      <td>1.000000</td>\n",
       "      <td>1.000000</td>\n",
       "      <td>0.000000</td>\n",
       "      <td>0.000000</td>\n",
       "      <td>1.000000</td>\n",
       "      <td>1.000000</td>\n",
       "      <td>1.000000e+00</td>\n",
       "      <td>0.000000</td>\n",
       "      <td>38.825061</td>\n",
       "      <td>-77.110525</td>\n",
       "    </tr>\n",
       "    <tr>\n",
       "      <th>25%</th>\n",
       "      <td>1.000000</td>\n",
       "      <td>2.000000</td>\n",
       "      <td>1.000000</td>\n",
       "      <td>1.000000</td>\n",
       "      <td>1.000000</td>\n",
       "      <td>1.000000</td>\n",
       "      <td>1.200000e+02</td>\n",
       "      <td>1.000000</td>\n",
       "      <td>38.901789</td>\n",
       "      <td>-77.039859</td>\n",
       "    </tr>\n",
       "    <tr>\n",
       "      <th>50%</th>\n",
       "      <td>1.000000</td>\n",
       "      <td>2.000000</td>\n",
       "      <td>1.000000</td>\n",
       "      <td>1.000000</td>\n",
       "      <td>1.000000</td>\n",
       "      <td>2.000000</td>\n",
       "      <td>1.125000e+03</td>\n",
       "      <td>4.000000</td>\n",
       "      <td>38.913375</td>\n",
       "      <td>-77.026410</td>\n",
       "    </tr>\n",
       "    <tr>\n",
       "      <th>75%</th>\n",
       "      <td>3.000000</td>\n",
       "      <td>4.000000</td>\n",
       "      <td>1.000000</td>\n",
       "      <td>1.000000</td>\n",
       "      <td>2.000000</td>\n",
       "      <td>3.000000</td>\n",
       "      <td>1.125000e+03</td>\n",
       "      <td>16.000000</td>\n",
       "      <td>38.926509</td>\n",
       "      <td>-77.002798</td>\n",
       "    </tr>\n",
       "    <tr>\n",
       "      <th>max</th>\n",
       "      <td>480.000000</td>\n",
       "      <td>16.000000</td>\n",
       "      <td>10.000000</td>\n",
       "      <td>8.000000</td>\n",
       "      <td>16.000000</td>\n",
       "      <td>180.000000</td>\n",
       "      <td>2.147484e+09</td>\n",
       "      <td>362.000000</td>\n",
       "      <td>38.996382</td>\n",
       "      <td>-76.913137</td>\n",
       "    </tr>\n",
       "  </tbody>\n",
       "</table>\n",
       "</div>"
      ],
      "text/plain": [
       "       host_listings_count  accommodates     bedrooms    bathrooms  \\\n",
       "count          3723.000000   3723.000000  3702.000000  3696.000000   \n",
       "mean             13.517325      3.195004     1.210157     1.256358   \n",
       "std              64.534408      2.012216     0.839851     0.585539   \n",
       "min               1.000000      1.000000     0.000000     0.000000   \n",
       "25%               1.000000      2.000000     1.000000     1.000000   \n",
       "50%               1.000000      2.000000     1.000000     1.000000   \n",
       "75%               3.000000      4.000000     1.000000     1.000000   \n",
       "max             480.000000     16.000000    10.000000     8.000000   \n",
       "\n",
       "              beds  minimum_nights  maximum_nights  number_of_reviews  \\\n",
       "count  3712.000000     3723.000000    3.723000e+03        3723.000000   \n",
       "mean      1.643319        2.250067    5.803069e+05          15.306742   \n",
       "std       1.182117        3.622879    3.519552e+07          29.645586   \n",
       "min       1.000000        1.000000    1.000000e+00           0.000000   \n",
       "25%       1.000000        1.000000    1.200000e+02           1.000000   \n",
       "50%       1.000000        2.000000    1.125000e+03           4.000000   \n",
       "75%       2.000000        3.000000    1.125000e+03          16.000000   \n",
       "max      16.000000      180.000000    2.147484e+09         362.000000   \n",
       "\n",
       "          latitude    longitude  \n",
       "count  3723.000000  3723.000000  \n",
       "mean     38.913967   -77.023294  \n",
       "std       0.021647     0.026951  \n",
       "min      38.825061   -77.110525  \n",
       "25%      38.901789   -77.039859  \n",
       "50%      38.913375   -77.026410  \n",
       "75%      38.926509   -77.002798  \n",
       "max      38.996382   -76.913137  "
      ]
     },
     "execution_count": 10,
     "metadata": {},
     "output_type": "execute_result"
    }
   ],
   "source": [
    "dc_listings.describe()"
   ]
  },
  {
   "cell_type": "markdown",
   "id": "da58f3ba-5c4c-4b8d-9a29-283fe1e790fc",
   "metadata": {},
   "source": [
    "### Eligiendo el valor de K y la metrica de similitud"
   ]
  },
  {
   "cell_type": "markdown",
   "id": "e5b5dc81-3dac-4662-8354-d7c4b3c5c9d5",
   "metadata": {},
   "source": [
    "Para este ejemplo usaremos $k = 5$ y se usara como metrica de similitud la Distancia Euclidiana.<br>\n",
    "La **Distancia Euclideana** mide una linea recta entre el punto de consulta y otro punto. Cuando se trata<br>\n",
    "de predecir un valor continuo, como en este caso _el precio_, la principal metrica de similitud es la<br>\n",
    "**Distancia Euclideana**."
   ]
  },
  {
   "cell_type": "markdown",
   "id": "e159c717-a2b5-4189-b8bc-d1e03294c9ea",
   "metadata": {},
   "source": [
    "La **Distancia Euclideana** esta definida por la siguiente formula: $$ d = \\sqrt{(q_{1}-p_{1})^{2} + (q_{2}-p_{2})^{2} + ... + (q_{n}-p_{n})^{2}} $$ \n",
    "Donde $ q_{1} $ a $ q_{n} $ representan los valores de las caracteristicas de una observacion y $ p_{1} $ a $ p_{n} $ <br>\n",
    "representan los valors de las caracteristicas de la otra observacion."
   ]
  },
  {
   "cell_type": "markdown",
   "id": "4ccd2648-4ea5-4bcb-87de-f611800119ff",
   "metadata": {},
   "source": [
    "#### Para este caso solo se usara una caracteristica. ( _**Caso univariante**_ )\n",
    "\n",
    "Por lo que la formula se simplifica a $ d = |q_{1}-p_{1}| $."
   ]
  },
  {
   "cell_type": "code",
   "execution_count": 12,
   "id": "b7f85045-8558-4222-884d-d88439ba9dbd",
   "metadata": {},
   "outputs": [
    {
     "name": "stdout",
     "output_type": "stream",
     "text": [
      "La distancia euclidiana con la primer observacion es: 1\n"
     ]
    }
   ],
   "source": [
    "import numpy as np\n",
    "\n",
    "our_accomodates = 3\n",
    "first_living_space_value = dc_listings.iloc[0]['accommodates']\n",
    "first_distance = np.abs( first_living_space_value - our_accomodates )\n",
    "print(f\"La distancia euclidiana con la primer observacion es: {first_distance}\")"
   ]
  },
  {
   "cell_type": "markdown",
   "id": "19d4adf7-06d1-4e5e-91f1-a805a118caac",
   "metadata": {},
   "source": [
    "## ¿Como sabemos si esto es alto o bajo? <br>\n",
    "Partiendo de la ecuacion que describe a la Distancia Euclideana, podemos concluir que el valor mas bajo que podemos alcanzar <br>\n",
    "es cero. Esto cuando la caracteristica es la misma para las dos observaciones, por lo que cuanto la distancia ($d$) se acerque mas <br>\n",
    "a cero, mas similares son las obseraciones, en este caso, los espacios vitales."
   ]
  },
  {
   "cell_type": "markdown",
   "id": "62c954ac-a2e7-4671-bc49-c2b17f4d5595",
   "metadata": {},
   "source": [
    "### Calculando la distancia entre cada una de las observaciones y nuestra observacion."
   ]
  },
  {
   "cell_type": "code",
   "execution_count": 24,
   "id": "4067f267-1dce-4f3b-a3d5-97af2e023149",
   "metadata": {},
   "outputs": [
    {
     "data": {
      "text/plain": [
       "distance\n",
       "1     2294\n",
       "2      503\n",
       "0      461\n",
       "3      279\n",
       "5       73\n",
       "4       35\n",
       "7       22\n",
       "6       17\n",
       "9       12\n",
       "13       8\n",
       "8        7\n",
       "12       6\n",
       "11       4\n",
       "10       2\n",
       "Name: count, dtype: int64"
      ]
     },
     "execution_count": 24,
     "metadata": {},
     "output_type": "execute_result"
    }
   ],
   "source": [
    "dc_listings['distance'] = dc_listings['accommodates'].apply( lambda x_acc: np.abs(x_acc - our_accomodates) )\n",
    "dc_listings['distance'].value_counts()"
   ]
  },
  {
   "cell_type": "markdown",
   "id": "b4048977-be6d-41cb-9239-399c012df215",
   "metadata": {},
   "source": [
    "El metodo value_counts(), devuelve una serie que contiene la frecuencia de cada fila distinta en el DataFrame."
   ]
  },
  {
   "cell_type": "markdown",
   "id": "b8c299f9-a103-4a6a-be75-ef85642d638f",
   "metadata": {},
   "source": [
    "### Aleatoridad y Clasificacion\n",
    "\n",
    "Para que los espacios vitales con los que comparemos el nuestro, sean diferentes en cada prediccion. <br>\n",
    "Aplicaremos aleatoridad a los datos."
   ]
  },
  {
   "cell_type": "code",
   "execution_count": 55,
   "id": "a8f90ab8-c766-485c-b638-aa3510b59e3d",
   "metadata": {},
   "outputs": [
    {
     "data": {
      "text/plain": [
       "3356     $64.00\n",
       "175     $119.00\n",
       "315     $259.00\n",
       "2414    $150.00\n",
       "930     $100.00\n",
       "274     $120.00\n",
       "631     $108.00\n",
       "2646    $400.00\n",
       "2328     $89.00\n",
       "3420    $150.00\n",
       "Name: price, dtype: object"
      ]
     },
     "execution_count": 55,
     "metadata": {},
     "output_type": "execute_result"
    }
   ],
   "source": [
    "dc_listings = dc_listings.loc[ np.random.permutation(len(dc_listings)) ] \n",
    "# print(dc_listings.loc[[21,234,2,556,87]])\n",
    "# print(dc_listings)\n",
    "dc_listings = dc_listings.sort_values('distance')\n",
    "dc_listings.iloc[0:10]['price']\n",
    "# dc_listings.head()"
   ]
  },
  {
   "cell_type": "markdown",
   "id": "a3b69c02-81a0-49f4-92ac-cb5454f2e7bd",
   "metadata": {},
   "source": [
    "The permutation() method returns a re-arranged array (and leaves the original array un-changed).\n",
    "\n",
    "Esto quiere decir que generara un ndarray del tamaño de la longitud de dc_listigns y con ayuda del .loc, tomaremos los valores en el orden <br>\n",
    "del ndarray.\n"
   ]
  },
  {
   "cell_type": "code",
   "execution_count": null,
   "id": "a9161bd0-4080-453f-beda-c557576e2323",
   "metadata": {},
   "outputs": [],
   "source": []
  }
 ],
 "metadata": {
  "kernelspec": {
   "display_name": "Python 3 (ipykernel)",
   "language": "python",
   "name": "python3"
  },
  "language_info": {
   "codemirror_mode": {
    "name": "ipython",
    "version": 3
   },
   "file_extension": ".py",
   "mimetype": "text/x-python",
   "name": "python",
   "nbconvert_exporter": "python",
   "pygments_lexer": "ipython3",
   "version": "3.11.5"
  }
 },
 "nbformat": 4,
 "nbformat_minor": 5
}
